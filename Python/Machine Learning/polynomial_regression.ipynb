{
    "cells": [
        {
            "cell_type": "code",
            "execution_count": 1,
            "source": [
                "import numpy as np\n",
                "import pandas as pd\n",
                "import matplotlib.pyplot as plt\n",
                "import seaborn as sbn\n",
                "import scipy as sp\n",
                "from sklearn.model_selection import train_test_split\n",
                "from sklearn.metrics import mean_squared_error\n",
                "from sklearn.linear_model import LinearRegression\n",
                "from sklearn.preprocessing import PolynomialFeatures\n",
                "from joblib import load, dump"
            ],
            "outputs": [],
            "metadata": {}
        },
        {
            "cell_type": "markdown",
            "source": [
                "# Polynomial Regression\n",
                "\n",
                "* Used when two variables aren't necessarily related by a straight line, but rather share an exponential relationship, i.e the points do not follow the pattern of a straight line, but a curve.\n",
                "* Or, when two variables make sense when strongly related to each other, wherein taking their product along with the individual terms would be more meaningful.\n",
                "* Upon transforming X, we get the individual variables, the product of pairs, and the squares of the individual terms, along with the Y-intercept.\n",
                "  * Example: If X consists of A and B, we get C (Y-intercept), A, B, A^2, B^2, and AB.\n"
            ],
            "metadata": {}
        },
        {
            "cell_type": "code",
            "execution_count": 2,
            "source": [
                "df = pd.read_csv('~/Documents/Data Science Masterclass/DATA/Advertising.csv')\n",
                "X = df.drop('sales', axis=1)\n",
                "y = df['sales']"
            ],
            "outputs": [],
            "metadata": {}
        },
        {
            "cell_type": "code",
            "execution_count": 3,
            "source": [
                "polynomial_converter = PolynomialFeatures(degree=2, include_bias=False)\n",
                "# Degree=2 --> A^2 and B^2\n",
                "#include_bias=False --> Y-intercept is equal to 0"
            ],
            "outputs": [],
            "metadata": {}
        },
        {
            "cell_type": "code",
            "execution_count": 4,
            "source": [
                "poly_features = polynomial_converter.fit_transform(X)"
            ],
            "outputs": [],
            "metadata": {}
        },
        {
            "cell_type": "code",
            "execution_count": 5,
            "source": [
                "poly_features.shape"
            ],
            "outputs": [
                {
                    "output_type": "execute_result",
                    "data": {
                        "text/plain": [
                            "(200, 9)"
                        ]
                    },
                    "metadata": {},
                    "execution_count": 5
                }
            ],
            "metadata": {}
        },
        {
            "cell_type": "code",
            "execution_count": 6,
            "source": [
                "X_train, X_test, y_train, y_test = train_test_split(poly_features, y, \n",
                "    test_size=0.3, random_state=101)"
            ],
            "outputs": [],
            "metadata": {}
        },
        {
            "cell_type": "code",
            "execution_count": 7,
            "source": [
                "model = LinearRegression()"
            ],
            "outputs": [],
            "metadata": {}
        },
        {
            "cell_type": "code",
            "execution_count": 8,
            "source": [
                "model.fit(X_train, y_train)"
            ],
            "outputs": [
                {
                    "output_type": "execute_result",
                    "data": {
                        "text/plain": [
                            "LinearRegression()"
                        ]
                    },
                    "metadata": {},
                    "execution_count": 8
                }
            ],
            "metadata": {}
        },
        {
            "cell_type": "code",
            "execution_count": 9,
            "source": [
                "y_hat = model.predict(X_test)"
            ],
            "outputs": [],
            "metadata": {}
        },
        {
            "cell_type": "code",
            "execution_count": 10,
            "source": [
                "RMSE = np.sqrt(mean_squared_error(y_test, y_hat))\n",
                "RMSE"
            ],
            "outputs": [
                {
                    "output_type": "execute_result",
                    "data": {
                        "text/plain": [
                            "0.6646431757269268"
                        ]
                    },
                    "metadata": {},
                    "execution_count": 10
                }
            ],
            "metadata": {}
        },
        {
            "cell_type": "code",
            "execution_count": 11,
            "source": [
                "model.coef_"
            ],
            "outputs": [
                {
                    "output_type": "execute_result",
                    "data": {
                        "text/plain": [
                            "array([ 5.17095811e-02,  1.30848864e-02,  1.20000085e-02, -1.10892474e-04,\n",
                            "        1.14212673e-03, -5.24100082e-05,  3.34919737e-05,  1.46380310e-04,\n",
                            "       -3.04715806e-05])"
                        ]
                    },
                    "metadata": {},
                    "execution_count": 11
                }
            ],
            "metadata": {}
        },
        {
            "cell_type": "code",
            "execution_count": 12,
            "source": [
                "test_residuals = y_test - y_hat\n",
                "\n",
                "# Plotting errors\n",
                "plt.figure(figsize=(8, 6), dpi=100)\n",
                "sbn.scatterplot(x=y_test, y=test_residuals)\n",
                "plt.axhline(y=0, color='red', ls='--')"
            ],
            "outputs": [
                {
                    "output_type": "execute_result",
                    "data": {
                        "text/plain": [
                            "<matplotlib.lines.Line2D at 0x7f85c3c7caf0>"
                        ]
                    },
                    "metadata": {},
                    "execution_count": 12
                },
                {
                    "output_type": "display_data",
                    "data": {
                        "text/plain": [
                            "<Figure size 800x600 with 1 Axes>"
                        ],
                        "image/png": "[encoded data removed]"
                    },
                    "metadata": {
                        "needs_background": "light"
                    }
                }
            ],
            "metadata": {}
        },
        {
            "cell_type": "code",
            "execution_count": null,
            "source": [],
            "outputs": [],
            "metadata": {}
        }
    ],
    "metadata": {
        "orig_nbformat": 4,
        "language_info": {
            "name": "python",
            "version": "3.9.5",
            "mimetype": "text/x-python",
            "codemirror_mode": {
                "name": "ipython",
                "version": 3
            },
            "pygments_lexer": "ipython3",
            "nbconvert_exporter": "python",
            "file_extension": ".py"
        },
        "kernelspec": {
            "name": "python3",
            "display_name": "Python 3.9.5 64-bit ('MachineLearning': conda)"
        },
        "interpreter": {
            "hash": "4f2b92610986dfdf1303db89efd38395c6e139d83d56f94d766bf233b86e9dd0"
        }
    },
    "nbformat": 4,
    "nbformat_minor": 2
}