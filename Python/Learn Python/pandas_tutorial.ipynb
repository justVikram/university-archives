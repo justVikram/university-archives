{
 "cells": [
  {
   "cell_type": "code",
   "execution_count": null,
   "id": "76319231",
   "metadata": {},
   "outputs": [],
   "source": [
    "import numpy as np\n",
    "import pandas as pd"
   ]
  },
  {
   "cell_type": "code",
   "execution_count": null,
   "id": "97450867",
   "metadata": {},
   "outputs": [],
   "source": [
    "dict = {\n",
    "    'name': ['harry', 'rohan', 'ram', 'ankit'],\n",
    "    'marks': [17, 15, 19, 16],\n",
    "    'city': ['delhi', 'lucknow', 'bhopal', 'indore'],\n",
    "}"
   ]
  },
  {
   "cell_type": "code",
   "execution_count": null,
   "id": "6e7276b6",
   "metadata": {},
   "outputs": [],
   "source": [
    "df = pd.DataFrame(dict)"
   ]
  },
  {
   "cell_type": "code",
   "execution_count": null,
   "id": "211eba17",
   "metadata": {},
   "outputs": [],
   "source": [
    "df"
   ]
  },
  {
   "cell_type": "markdown",
   "id": "10958b77",
   "metadata": {},
   "source": [
    "--------------------\n",
    "**Export to CSV file**"
   ]
  },
  {
   "cell_type": "code",
   "execution_count": null,
   "id": "84216136",
   "metadata": {},
   "outputs": [],
   "source": [
    "df.to_csv('sample_data.csv')"
   ]
  },
  {
   "cell_type": "code",
   "execution_count": null,
   "id": "62d83bdd",
   "metadata": {},
   "outputs": [],
   "source": [
    "df.to_csv('sample_data_wo_index.csv', index = False) #To get csv file without indices"
   ]
  },
  {
   "cell_type": "code",
   "execution_count": null,
   "id": "2bbb3d1e",
   "metadata": {},
   "outputs": [],
   "source": [
    "df.head(2) # Show first x rows"
   ]
  },
  {
   "cell_type": "code",
   "execution_count": null,
   "id": "0819ea79",
   "metadata": {},
   "outputs": [],
   "source": [
    "df.tail(2) # Show last x rows"
   ]
  },
  {
   "cell_type": "markdown",
   "id": "594799d4",
   "metadata": {},
   "source": [
    "----\n",
    "**Summary of data frame**"
   ]
  },
  {
   "cell_type": "code",
   "execution_count": null,
   "id": "e285d923",
   "metadata": {},
   "outputs": [],
   "source": [
    "df.describe()"
   ]
  },
  {
   "cell_type": "markdown",
   "id": "d91ec34d",
   "metadata": {},
   "source": [
    "---\n",
    "**Read CSV**"
   ]
  },
  {
   "cell_type": "code",
   "execution_count": null,
   "id": "bc6edfd5",
   "metadata": {},
   "outputs": [],
   "source": [
    "weather_data = pd.read_csv('weather-dat.csv')"
   ]
  },
  {
   "cell_type": "code",
   "execution_count": null,
   "id": "0b7b6e65",
   "metadata": {},
   "outputs": [],
   "source": [
    "weather_data"
   ]
  },
  {
   "cell_type": "code",
   "execution_count": null,
   "id": "140b9ca1",
   "metadata": {},
   "outputs": [],
   "source": [
    "weather_data['MaxTemp'][2] # Access a particular row and column entry"
   ]
  },
  {
   "cell_type": "code",
   "execution_count": null,
   "id": "de1226a4",
   "metadata": {},
   "outputs": [],
   "source": [
    "df.index = ['first', 'second', 'third', 'fourth'] # Modify the index values"
   ]
  },
  {
   "cell_type": "code",
   "execution_count": null,
   "id": "b2bd4b0d",
   "metadata": {},
   "outputs": [],
   "source": [
    "df"
   ]
  },
  {
   "cell_type": "markdown",
   "id": "241c0d0a",
   "metadata": {},
   "source": [
    "---\n",
    "**Creating series & dataframes**"
   ]
  },
  {
   "cell_type": "code",
   "execution_count": null,
   "id": "419a96b5",
   "metadata": {},
   "outputs": [],
   "source": [
    "ser = pd.Series(np.random.rand(10))"
   ]
  },
  {
   "cell_type": "code",
   "execution_count": null,
   "id": "a9390c94",
   "metadata": {},
   "outputs": [],
   "source": [
    "ser"
   ]
  },
  {
   "cell_type": "code",
   "execution_count": null,
   "id": "99775548",
   "metadata": {},
   "outputs": [],
   "source": [
    "new_df = pd.DataFrame(np.random.rand(70, 5), index = np.arange(70))"
   ]
  },
  {
   "cell_type": "code",
   "execution_count": null,
   "id": "d12d7d55",
   "metadata": {},
   "outputs": [],
   "source": [
    "new_df"
   ]
  },
  {
   "cell_type": "markdown",
   "id": "ebf1b350",
   "metadata": {},
   "source": [
    "**Checking type**"
   ]
  },
  {
   "cell_type": "code",
   "execution_count": null,
   "id": "caebf76f",
   "metadata": {},
   "outputs": [],
   "source": [
    "type(new_df)"
   ]
  },
  {
   "cell_type": "code",
   "execution_count": null,
   "id": "ce2c7bac",
   "metadata": {},
   "outputs": [],
   "source": [
    "type(ser)"
   ]
  },
  {
   "cell_type": "markdown",
   "id": "433b14ba",
   "metadata": {},
   "source": [
    "**Get attribute info**"
   ]
  },
  {
   "cell_type": "code",
   "execution_count": null,
   "id": "9db857bd",
   "metadata": {},
   "outputs": [],
   "source": [
    "new_df.dtypes"
   ]
  },
  {
   "cell_type": "code",
   "execution_count": null,
   "id": "0d3f06a4",
   "metadata": {},
   "outputs": [],
   "source": [
    "new_df.index"
   ]
  },
  {
   "cell_type": "code",
   "execution_count": null,
   "id": "3886dbeb",
   "metadata": {},
   "outputs": [],
   "source": [
    "new_df.columns # Number of columns"
   ]
  },
  {
   "cell_type": "markdown",
   "id": "e66a0876",
   "metadata": {},
   "source": [
    "---\n",
    "**Convert dataframe to NumPy array**"
   ]
  },
  {
   "cell_type": "code",
   "execution_count": null,
   "id": "f8863df0",
   "metadata": {},
   "outputs": [],
   "source": [
    "new_df.to_numpy()"
   ]
  },
  {
   "cell_type": "code",
   "execution_count": null,
   "id": "6367e858",
   "metadata": {},
   "outputs": [],
   "source": [
    "new_df.T # Interchange columns and rows"
   ]
  },
  {
   "cell_type": "markdown",
   "id": "9bd81e0c",
   "metadata": {},
   "source": [
    "---\n",
    "**Sort by index**"
   ]
  },
  {
   "cell_type": "code",
   "execution_count": null,
   "id": "54c0a9cd",
   "metadata": {},
   "outputs": [],
   "source": [
    "new_df.sort_index(axis = 0, ascending = False)"
   ]
  },
  {
   "cell_type": "code",
   "execution_count": null,
   "id": "d0735b5e",
   "metadata": {},
   "outputs": [],
   "source": [
    "new_df.sort_index(axis = 1, ascending = False) # For columns"
   ]
  },
  {
   "cell_type": "markdown",
   "id": "28d18df6",
   "metadata": {},
   "source": [
    "---\n",
    "**Differentiating between pass by value and pass by reference**"
   ]
  },
  {
   "cell_type": "code",
   "execution_count": null,
   "id": "66580959",
   "metadata": {},
   "outputs": [],
   "source": [
    "df = new_df # Pass by reference, new_df points to the same mem as df, and changing new_df changes df"
   ]
  },
  {
   "cell_type": "code",
   "execution_count": null,
   "id": "c8beb941",
   "metadata": {},
   "outputs": [],
   "source": [
    "df"
   ]
  },
  {
   "cell_type": "code",
   "execution_count": null,
   "id": "9abd7dc0",
   "metadata": {},
   "outputs": [],
   "source": [
    "df = new_df.copy() # Pass by value"
   ]
  },
  {
   "cell_type": "code",
   "execution_count": null,
   "id": "b73320b5",
   "metadata": {},
   "outputs": [],
   "source": [
    "df"
   ]
  },
  {
   "cell_type": "markdown",
   "id": "f71e922f",
   "metadata": {},
   "source": [
    "---\n",
    "**Setting values in dataframe**"
   ]
  },
  {
   "cell_type": "code",
   "execution_count": null,
   "id": "094b47bd",
   "metadata": {},
   "outputs": [],
   "source": [
    "new_df.loc[0, 0] = 10.01"
   ]
  },
  {
   "cell_type": "code",
   "execution_count": null,
   "id": "8a5da9e1",
   "metadata": {},
   "outputs": [],
   "source": [
    "new_df"
   ]
  },
  {
   "cell_type": "code",
   "execution_count": null,
   "id": "6ace25e3",
   "metadata": {},
   "outputs": [],
   "source": [
    "df"
   ]
  },
  {
   "cell_type": "code",
   "execution_count": null,
   "id": "0249919f",
   "metadata": {},
   "outputs": [],
   "source": [
    "new_df.columns = ['A', 'B', 'C', 'D', 'E'] # Change column headings"
   ]
  },
  {
   "cell_type": "code",
   "execution_count": null,
   "id": "ae56b6c6",
   "metadata": {},
   "outputs": [],
   "source": [
    "new_df"
   ]
  },
  {
   "cell_type": "code",
   "execution_count": null,
   "id": "7c661011",
   "metadata": {},
   "outputs": [],
   "source": [
    "new_df.loc[0, 'B'] = 20.02"
   ]
  },
  {
   "cell_type": "code",
   "execution_count": null,
   "id": "7e473617",
   "metadata": {},
   "outputs": [],
   "source": [
    "new_df"
   ]
  },
  {
   "cell_type": "markdown",
   "id": "cc3bf034",
   "metadata": {},
   "source": [
    "---\n",
    "**Drop columns & rows**"
   ]
  },
  {
   "cell_type": "code",
   "execution_count": null,
   "id": "7e064cae",
   "metadata": {},
   "outputs": [],
   "source": [
    "new_df.drop('E', axis = 1) # In axis 1, drop column E. !The original DF is left intact. \n",
    "# Pass 'inplace=True' as a param to make it permanent."
   ]
  },
  {
   "cell_type": "code",
   "execution_count": null,
   "id": "cd81afc4",
   "metadata": {
    "scrolled": false
   },
   "outputs": [],
   "source": [
    "new_df.drop(69, axis = 0)"
   ]
  },
  {
   "cell_type": "markdown",
   "id": "62d67773",
   "metadata": {},
   "source": [
    "---\n",
    "**Get specific rows and columns**"
   ]
  },
  {
   "cell_type": "code",
   "execution_count": null,
   "id": "d79ece18",
   "metadata": {},
   "outputs": [],
   "source": [
    "new_df.loc[[14, 17], ['C', 'D']]"
   ]
  },
  {
   "cell_type": "code",
   "execution_count": null,
   "id": "d6fc2fad",
   "metadata": {},
   "outputs": [],
   "source": [
    "new_df.loc[:, ['B', 'D']] # Get all rows but specific columns"
   ]
  },
  {
   "cell_type": "markdown",
   "id": "bb7836bd",
   "metadata": {},
   "source": [
    "---\n",
    "**Making queries**"
   ]
  },
  {
   "cell_type": "code",
   "execution_count": null,
   "id": "5e9afc0f",
   "metadata": {},
   "outputs": [],
   "source": [
    "new_df.loc[(new_df['A'] > 0.65) & (new_df['C'] > 0.5)] # All rows whose A value is greater than 0.65"
   ]
  },
  {
   "cell_type": "markdown",
   "id": "db594ab5",
   "metadata": {},
   "source": [
    "---\n",
    "**Using iloc**"
   ]
  },
  {
   "cell_type": "code",
   "execution_count": null,
   "id": "d5e5f492",
   "metadata": {},
   "outputs": [],
   "source": [
    "new_df.iloc[[3, 10], [1, 3]] # Get row no. 3 and 10, and column no. 1 and 3 irrespective of their actual names"
   ]
  },
  {
   "cell_type": "markdown",
   "id": "4d5c4920",
   "metadata": {},
   "source": [
    "---\n",
    "**Reset index**"
   ]
  },
  {
   "cell_type": "code",
   "execution_count": null,
   "id": "b5d693a6",
   "metadata": {},
   "outputs": [],
   "source": [
    "new_df.reset_index(drop=True, inplace=True)"
   ]
  },
  {
   "cell_type": "code",
   "execution_count": null,
   "id": "f0f8455e",
   "metadata": {},
   "outputs": [],
   "source": [
    "new_df"
   ]
  },
  {
   "cell_type": "code",
   "execution_count": null,
   "id": "5fa47656",
   "metadata": {},
   "outputs": [],
   "source": [
    "df = pd.DataFrame({\"name\": ['Alfred', 'Batman', 'Alfred'],\n",
    "...                    \"toy\": [np.nan, 'Batmobile', 'Bullwhip'],\n",
    "...                    \"born\": [pd.NaT, pd.Timestamp(\"1940-04-25\"),\n",
    "...                             pd.NaT]})"
   ]
  },
  {
   "cell_type": "code",
   "execution_count": null,
   "id": "b4a8f1f5",
   "metadata": {},
   "outputs": [],
   "source": [
    "df"
   ]
  },
  {
   "cell_type": "markdown",
   "id": "3da77222",
   "metadata": {},
   "source": [
    "---\n",
    "**Drop rows with missing values**"
   ]
  },
  {
   "cell_type": "code",
   "execution_count": null,
   "id": "5ca95698",
   "metadata": {},
   "outputs": [],
   "source": [
    "df.dropna(how = 'all') # only remove if all row values are NaT"
   ]
  },
  {
   "cell_type": "markdown",
   "id": "37705ed3",
   "metadata": {},
   "source": [
    "**Drop duplicates for a column**"
   ]
  },
  {
   "cell_type": "code",
   "execution_count": null,
   "id": "367fc642",
   "metadata": {},
   "outputs": [],
   "source": [
    "df.drop_duplicates(subset = ['name'])"
   ]
  },
  {
   "cell_type": "code",
   "execution_count": null,
   "id": "d84cd067",
   "metadata": {},
   "outputs": [],
   "source": [
    "df.info()"
   ]
  },
  {
   "cell_type": "code",
   "execution_count": null,
   "id": "437f929e",
   "metadata": {},
   "outputs": [],
   "source": [
    "df.isnull()"
   ]
  },
  {
   "cell_type": "markdown",
   "id": "7b152667",
   "metadata": {},
   "source": [
    "---\n",
    "**Statistical methods**\n",
    "\n",
    "* df.mean()\n",
    "* df.corr()\n",
    "* df.count()\n",
    "* df.max() / df.min()\n",
    "* df.median()\n",
    "* df.std()"
   ]
  },
  {
   "cell_type": "code",
   "execution_count": null,
   "id": "ef5b7498",
   "metadata": {},
   "outputs": [],
   "source": []
  }
 ],
 "metadata": {
  "kernelspec": {
   "display_name": "Python 3",
   "language": "python",
   "name": "python3"
  },
  "language_info": {
   "codemirror_mode": {
    "name": "ipython",
    "version": 3
   },
   "file_extension": ".py",
   "mimetype": "text/x-python",
   "name": "python",
   "nbconvert_exporter": "python",
   "pygments_lexer": "ipython3",
   "version": "3.9.5"
  }
 },
 "nbformat": 4,
 "nbformat_minor": 5
}