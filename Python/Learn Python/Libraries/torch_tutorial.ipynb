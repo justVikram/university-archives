{
 "cells": [
  {
   "cell_type": "markdown",
   "id": "3f107f2e",
   "metadata": {},
   "source": [
    "# Introduction to Tensors\n",
    "\n",
    "- Simply a number, vector, matrix or any n-dim array.\n",
    "\n",
    "- All elements inside a tensor must be of the same data type, and do to so, python can perform implicit data     type conversion."
   ]
  },
  {
   "cell_type": "code",
   "execution_count": 1,
   "id": "26abf92c",
   "metadata": {},
   "outputs": [],
   "source": [
    "import torch"
   ]
  },
  {
   "cell_type": "code",
   "execution_count": 2,
   "id": "01623c1e",
   "metadata": {},
   "outputs": [
    {
     "name": "stdout",
     "output_type": "stream",
     "text": [
      "tensor(4.)\n",
      "torch.float32\n",
      "torch.Size([])\n"
     ]
    }
   ],
   "source": [
    "# Number\n",
    "\n",
    "t_num = torch.tensor(4.)\n",
    "\n",
    "print(t_num)\n",
    "print(t_num.dtype)\n",
    "print(t_num.shape)"
   ]
  },
  {
   "cell_type": "code",
   "execution_count": 3,
   "id": "d06a0e77",
   "metadata": {},
   "outputs": [
    {
     "name": "stdout",
     "output_type": "stream",
     "text": [
      "tensor([[1., 2., 3., 4.]])\n",
      "torch.float32\n",
      "torch.Size([1, 4])\n"
     ]
    }
   ],
   "source": [
    "# Vector\n",
    "\n",
    "t_vec = torch.tensor([\n",
    "    [1., 2, 3, 4]\n",
    "])\n",
    "\n",
    "print(t_vec)\n",
    "print(t_vec.dtype)\n",
    "print(t_vec.shape)"
   ]
  },
  {
   "cell_type": "code",
   "execution_count": 4,
   "id": "b1c016dc",
   "metadata": {},
   "outputs": [
    {
     "name": "stdout",
     "output_type": "stream",
     "text": [
      "tensor([[ 5,  6],\n",
      "        [ 7,  8],\n",
      "        [ 9, 10]])\n",
      "torch.int64\n",
      "torch.Size([3, 2])\n"
     ]
    }
   ],
   "source": [
    "# Matrix\n",
    "\n",
    "t_mat = torch.tensor([\n",
    "    [5, 6],\n",
    "    [7, 8],\n",
    "    [9, 10]\n",
    "])\n",
    "\n",
    "print(t_mat)\n",
    "print(t_mat.dtype)\n",
    "print(t_mat.shape)"
   ]
  },
  {
   "cell_type": "code",
   "execution_count": 5,
   "id": "3f5e7122",
   "metadata": {},
   "outputs": [
    {
     "name": "stdout",
     "output_type": "stream",
     "text": [
      "tensor([[[ 1,  2,  3],\n",
      "         [ 4,  5,  6]],\n",
      "\n",
      "        [[11, 12, 13],\n",
      "         [14, 15, 16]]])\n",
      "torch.int64\n",
      "torch.Size([2, 2, 3])\n"
     ]
    }
   ],
   "source": [
    "# 3D Array. Each row and column should have same number of elements as every other row and column respectively.\n",
    "\n",
    "t_3d = torch.tensor([\n",
    "    [[1, 2, 3], [4, 5, 6]],\n",
    "    [[11, 12, 13], [14, 15, 16]]\n",
    "])\n",
    "\n",
    "print(t_3d)\n",
    "print(t_3d.dtype)\n",
    "print(t_3d.shape)"
   ]
  },
  {
   "cell_type": "markdown",
   "id": "0752b4ba",
   "metadata": {},
   "source": [
    "## Tensor Operations and Gradients\n",
    "\n",
    "- Requires grad enables calculation of derivative with respect to the tensor for which that property is set as   True."
   ]
  },
  {
   "cell_type": "code",
   "execution_count": 6,
   "id": "a68ed9f4",
   "metadata": {},
   "outputs": [
    {
     "name": "stdout",
     "output_type": "stream",
     "text": [
      "tensor(20., grad_fn=<AddBackward0>)\n",
      "torch.Size([])\n"
     ]
    }
   ],
   "source": [
    "# Performing operations\n",
    "\n",
    "m = torch.tensor(3.)\n",
    "x = torch.tensor(4., requires_grad=True)\n",
    "b = torch.tensor(8., requires_grad=True)\n",
    "\n",
    "y = m * x + b\n",
    "print(y)\n",
    "print(y.shape)"
   ]
  },
  {
   "cell_type": "code",
   "execution_count": 7,
   "id": "dc69fdd4",
   "metadata": {},
   "outputs": [],
   "source": [
    "# Computing derivatives\n",
    "\n",
    "y.backward()"
   ]
  },
  {
   "cell_type": "code",
   "execution_count": 8,
   "id": "fdaf4619",
   "metadata": {},
   "outputs": [
    {
     "name": "stdout",
     "output_type": "stream",
     "text": [
      "dy/dx = 3.0\n",
      "dy/dm = None\n",
      "dy/db = 1.0\n"
     ]
    }
   ],
   "source": [
    "print(f'dy/dx = {x.grad}')\n",
    "print(f'dy/dm = {m.grad}')\n",
    "print(f'dy/db = {b.grad}')"
   ]
  },
  {
   "cell_type": "markdown",
   "id": "e6cda385",
   "metadata": {},
   "source": [
    "## NumPy with PyTorch"
   ]
  },
  {
   "cell_type": "code",
   "execution_count": 9,
   "id": "0031da13",
   "metadata": {},
   "outputs": [],
   "source": [
    "import numpy as np"
   ]
  },
  {
   "cell_type": "code",
   "execution_count": 10,
   "id": "8ad1c22e",
   "metadata": {},
   "outputs": [
    {
     "data": {
      "text/plain": [
       "array([[1, 2],\n",
       "       [3, 4]])"
      ]
     },
     "execution_count": 10,
     "metadata": {},
     "output_type": "execute_result"
    }
   ],
   "source": [
    "np_arr = np.array([\n",
    "    [1, 2],\n",
    "    [3, 4]\n",
    "])\n",
    "\n",
    "np_arr"
   ]
  },
  {
   "cell_type": "code",
   "execution_count": 11,
   "id": "72127c18",
   "metadata": {},
   "outputs": [
    {
     "data": {
      "text/plain": [
       "tensor([[1, 2],\n",
       "        [3, 4]])"
      ]
     },
     "execution_count": 11,
     "metadata": {},
     "output_type": "execute_result"
    }
   ],
   "source": [
    "# NumPy array --> Tensor\n",
    "\n",
    "y = torch.from_numpy(np_arr)\n",
    "y"
   ]
  },
  {
   "cell_type": "code",
   "execution_count": 12,
   "id": "4446c55e",
   "metadata": {},
   "outputs": [
    {
     "data": {
      "text/plain": [
       "array([[1, 2],\n",
       "       [3, 4]])"
      ]
     },
     "execution_count": 12,
     "metadata": {},
     "output_type": "execute_result"
    }
   ],
   "source": [
    "# Tensor --> NumPy array\n",
    "\n",
    "z = y.numpy()\n",
    "z"
   ]
  },
  {
   "cell_type": "markdown",
   "id": "48ea45cd",
   "metadata": {},
   "source": [
    "# Linear Regression with PyTorch\n",
    "\n",
    "```\n",
    "yield_apple  = w11 * temp + w12 * rainfall + w13 * humidity + b1\n",
    "yield_orange = w21 * temp + w22 * rainfall + w23 * humidity + b2\n",
    "```"
   ]
  },
  {
   "cell_type": "code",
   "execution_count": 13,
   "id": "66e964c3",
   "metadata": {},
   "outputs": [
    {
     "data": {
      "text/plain": [
       "(5, 3)"
      ]
     },
     "execution_count": 13,
     "metadata": {},
     "output_type": "execute_result"
    }
   ],
   "source": [
    "# Input (temp, rainfall, humidity)\n",
    "\n",
    "inputs = np.array([\n",
    "    [73, 67, 43], \n",
    "    [91, 88, 64], \n",
    "    [87, 134, 58], \n",
    "    [102, 43, 37], \n",
    "    [69, 96, 70],\n",
    "], dtype='float32')\n",
    "\n",
    "inputs.shape"
   ]
  },
  {
   "cell_type": "code",
   "execution_count": 14,
   "id": "6318b001",
   "metadata": {},
   "outputs": [
    {
     "data": {
      "text/plain": [
       "(5, 2)"
      ]
     },
     "execution_count": 14,
     "metadata": {},
     "output_type": "execute_result"
    }
   ],
   "source": [
    "# Targets (apples, oranges)\n",
    "\n",
    "targets = np.array([\n",
    "    [56, 70], \n",
    "    [81, 101], \n",
    "    [119, 133], \n",
    "    [22, 37], \n",
    "    [103, 119]\n",
    "], dtype='float32')\n",
    "\n",
    "targets.shape"
   ]
  },
  {
   "cell_type": "code",
   "execution_count": 15,
   "id": "8ed685a5",
   "metadata": {},
   "outputs": [
    {
     "name": "stdout",
     "output_type": "stream",
     "text": [
      "torch.float32\n",
      "torch.float32\n"
     ]
    }
   ],
   "source": [
    "# Convert inputs and targets to tensors\n",
    "\n",
    "inputs = torch.from_numpy(inputs)\n",
    "targets = torch.from_numpy(targets)\n",
    "\n",
    "print(inputs.dtype)\n",
    "print(targets.dtype)"
   ]
  },
  {
   "cell_type": "code",
   "execution_count": 16,
   "id": "6b49c18f",
   "metadata": {},
   "outputs": [
    {
     "name": "stdout",
     "output_type": "stream",
     "text": [
      "torch.Size([2, 3]) torch.float32\n",
      "torch.Size([2]) torch.float32\n"
     ]
    }
   ],
   "source": [
    "# Random weights and biases for initialization\n",
    "\n",
    "w = torch.randn(2, 3, requires_grad=True) # Dimension = (2,3)\n",
    "b = torch.randn(2, requires_grad=True)\n",
    "\n",
    "print(w.shape, w.dtype)\n",
    "print(b.shape, b.dtype)"
   ]
  },
  {
   "cell_type": "code",
   "execution_count": 17,
   "id": "64a9bfb4",
   "metadata": {},
   "outputs": [],
   "source": [
    "'''\n",
    "@: matrix multiplication\n",
    "\n",
    "shape of w: (2, 3)\n",
    "shape of w.T: (3, 2)\n",
    "shape of x: (5, 3)\n",
    "shape of b: (2)\n",
    "\n",
    "x @ w.t() ---> output of shape (5, 2)\n",
    "\n",
    "Since b's shape is (2), PyTorch will broadcast its values when performing addition,\n",
    "thus making its shape (5, 2)'''\n",
    "\n",
    "def model(x):\n",
    "    return x @ w.t() + b"
   ]
  },
  {
   "cell_type": "code",
   "execution_count": 18,
   "id": "7d14a62b",
   "metadata": {},
   "outputs": [
    {
     "data": {
      "text/plain": [
       "tensor([[ 39.9710, 195.4098],\n",
       "        [ 55.2833, 235.3807],\n",
       "        [ -3.3652, 340.9050],\n",
       "        [ 87.1394, 201.2134],\n",
       "        [ 31.7867, 205.8769]], grad_fn=<AddBackward0>)"
      ]
     },
     "execution_count": 18,
     "metadata": {},
     "output_type": "execute_result"
    }
   ],
   "source": [
    "predictions = model(inputs)\n",
    "predictions"
   ]
  },
  {
   "cell_type": "code",
   "execution_count": 19,
   "id": "435673b8",
   "metadata": {},
   "outputs": [
    {
     "data": {
      "text/plain": [
       "tensor([[ 56.,  70.],\n",
       "        [ 81., 101.],\n",
       "        [119., 133.],\n",
       "        [ 22.,  37.],\n",
       "        [103., 119.]])"
      ]
     },
     "execution_count": 19,
     "metadata": {},
     "output_type": "execute_result"
    }
   ],
   "source": [
    "targets"
   ]
  },
  {
   "cell_type": "code",
   "execution_count": 20,
   "id": "058651d2",
   "metadata": {},
   "outputs": [],
   "source": [
    "# Getting numpy arrays from tensors\n",
    "\n",
    "true_y = targets.detach().numpy()"
   ]
  },
  {
   "cell_type": "code",
   "execution_count": 21,
   "id": "46fdd0f1",
   "metadata": {},
   "outputs": [],
   "source": [
    "# Getting numpy arrays from tensors\n",
    "\n",
    "predicted_y = predictions.detach().numpy()"
   ]
  },
  {
   "cell_type": "code",
   "execution_count": 22,
   "id": "f7cffad1",
   "metadata": {},
   "outputs": [
    {
     "data": {
      "text/plain": [
       "116.93157"
      ]
     },
     "execution_count": 22,
     "metadata": {},
     "output_type": "execute_result"
    }
   ],
   "source": [
    "# Compute loss\n",
    "\n",
    "from sklearn.metrics import mean_squared_error\n",
    "\n",
    "RMSE = np.sqrt(mean_squared_error(true_y, predicted_y))\n",
    "RMSE"
   ]
  },
  {
   "cell_type": "code",
   "execution_count": 23,
   "id": "7320a999",
   "metadata": {},
   "outputs": [],
   "source": [
    "# Computing loss with UD function\n",
    "\n",
    "def mse(t1, t2):\n",
    "    diff = t1 - t2\n",
    "    return torch.sum(diff * diff) / diff.numel()"
   ]
  },
  {
   "cell_type": "code",
   "execution_count": 24,
   "id": "81a57415",
   "metadata": {},
   "outputs": [
    {
     "name": "stdout",
     "output_type": "stream",
     "text": [
      "tensor(13672.9922, grad_fn=<DivBackward0>)\n"
     ]
    }
   ],
   "source": [
    "# Compute loss\n",
    "\n",
    "loss = mse(predictions, targets)\n",
    "print(loss)"
   ]
  },
  {
   "cell_type": "markdown",
   "id": "6f06e9c3",
   "metadata": {},
   "source": [
    "## Computing Gradients"
   ]
  },
  {
   "cell_type": "code",
   "execution_count": 25,
   "id": "f0060e18",
   "metadata": {},
   "outputs": [],
   "source": [
    "loss.backward()"
   ]
  },
  {
   "cell_type": "code",
   "execution_count": 26,
   "id": "402e87b5",
   "metadata": {},
   "outputs": [
    {
     "name": "stdout",
     "output_type": "stream",
     "text": [
      "tensor([[ 0.9484, -1.0646,  0.9808],\n",
      "        [ 1.6707,  2.2122, -1.7409]], requires_grad=True)\n",
      "-----------------\n",
      "tensor([[-2485.1240, -4753.8887, -2401.4153],\n",
      "        [12443.1143, 12697.7188,  7641.7515]])\n"
     ]
    }
   ],
   "source": [
    "# Gradients for weights\n",
    "\n",
    "print(w)\n",
    "print('-----------------')\n",
    "print(w.grad)"
   ]
  },
  {
   "cell_type": "code",
   "execution_count": 27,
   "id": "945bb1b3",
   "metadata": {},
   "outputs": [
    {
     "name": "stdout",
     "output_type": "stream",
     "text": [
      "tensor([[0., 0., 0.],\n",
      "        [0., 0., 0.]])\n",
      "tensor([0., 0.])\n"
     ]
    }
   ],
   "source": [
    "# To flush out previous gradient values\n",
    "\n",
    "w.grad.zero_()\n",
    "b.grad.zero_()\n",
    "\n",
    "print(w.grad)\n",
    "print(b.grad)"
   ]
  },
  {
   "cell_type": "markdown",
   "id": "dbe81429",
   "metadata": {},
   "source": [
    "## Training model using Gradient Descent"
   ]
  },
  {
   "cell_type": "code",
   "execution_count": 28,
   "id": "9234e921",
   "metadata": {
    "scrolled": true
   },
   "outputs": [
    {
     "name": "stdout",
     "output_type": "stream",
     "text": [
      "tensor([[ 39.9710, 195.4098],\n",
      "        [ 55.2833, 235.3807],\n",
      "        [ -3.3652, 340.9050],\n",
      "        [ 87.1394, 201.2134],\n",
      "        [ 31.7867, 205.8769]], grad_fn=<AddBackward0>)\n"
     ]
    }
   ],
   "source": [
    "# Generate predictions\n",
    "predictions = model(inputs)\n",
    "print(predictions)"
   ]
  },
  {
   "cell_type": "code",
   "execution_count": 29,
   "id": "f4c06c7e",
   "metadata": {},
   "outputs": [
    {
     "name": "stdout",
     "output_type": "stream",
     "text": [
      "tensor(13672.9922, grad_fn=<DivBackward0>)\n"
     ]
    }
   ],
   "source": [
    "# Calculate the loss\n",
    "loss = mse(predictions, targets)\n",
    "print(loss)"
   ]
  },
  {
   "cell_type": "code",
   "execution_count": 30,
   "id": "723bc7d1",
   "metadata": {},
   "outputs": [
    {
     "name": "stdout",
     "output_type": "stream",
     "text": [
      "tensor([[-2485.1240, -4753.8887, -2401.4153],\n",
      "        [12443.1143, 12697.7188,  7641.7515]])\n",
      "tensor([-34.0370, 143.7572])\n"
     ]
    }
   ],
   "source": [
    "# Compute gradients\n",
    "loss.backward()\n",
    "print(w.grad)\n",
    "print(b.grad)"
   ]
  },
  {
   "cell_type": "code",
   "execution_count": 31,
   "id": "5cec3887",
   "metadata": {},
   "outputs": [],
   "source": [
    "# Adjust weights & reset gradients\n",
    "\n",
    "with torch.no_grad(): # Don't track values for gradient related work\n",
    "    w -= w.grad * 1e-5\n",
    "    b -= b.grad * 1e-5\n",
    "    w.grad.zero_()\n",
    "    b.grad.zero_()"
   ]
  },
  {
   "cell_type": "code",
   "execution_count": 32,
   "id": "4da173e5",
   "metadata": {},
   "outputs": [
    {
     "name": "stdout",
     "output_type": "stream",
     "text": [
      "tensor([[ 0.9733, -1.0170,  1.0048],\n",
      "        [ 1.5463,  2.0852, -1.8173]], requires_grad=True)\n",
      "tensor([-0.1109,  0.0851], requires_grad=True)\n"
     ]
    }
   ],
   "source": [
    "print(w)\n",
    "print(b)"
   ]
  },
  {
   "cell_type": "code",
   "execution_count": 35,
   "id": "8d40db5d",
   "metadata": {},
   "outputs": [
    {
     "name": "stdout",
     "output_type": "stream",
     "text": [
      "tensor(9946.9951, grad_fn=<DivBackward0>)\n"
     ]
    }
   ],
   "source": [
    "# Model has lesser loss with gradient descent\n",
    "\n",
    "predictions = model(inputs)\n",
    "loss = mse(predictions, targets)\n",
    "print(loss)"
   ]
  },
  {
   "cell_type": "code",
   "execution_count": null,
   "id": "a843c8ea",
   "metadata": {},
   "outputs": [],
   "source": []
  }
 ],
 "metadata": {
  "kernelspec": {
   "display_name": "Python 3",
   "language": "python",
   "name": "python3"
  },
  "language_info": {
   "codemirror_mode": {
    "name": "ipython",
    "version": 3
   },
   "file_extension": ".py",
   "mimetype": "text/x-python",
   "name": "python",
   "nbconvert_exporter": "python",
   "pygments_lexer": "ipython3",
   "version": "3.7.11"
  }
 },
 "nbformat": 4,
 "nbformat_minor": 5
}
