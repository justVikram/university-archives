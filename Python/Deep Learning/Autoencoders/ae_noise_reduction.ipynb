{
 "cells": [
  {
   "cell_type": "code",
   "execution_count": 1,
   "id": "2504175c",
   "metadata": {},
   "outputs": [],
   "source": [
    "import numpy as np\n",
    "import pandas as pd\n",
    "import matplotlib.pyplot as plt"
   ]
  },
  {
   "cell_type": "code",
   "execution_count": 2,
   "id": "224e0224",
   "metadata": {},
   "outputs": [],
   "source": [
    "from tensorflow.keras.datasets import mnist"
   ]
  },
  {
   "cell_type": "code",
   "execution_count": 3,
   "id": "0266d2c1",
   "metadata": {},
   "outputs": [],
   "source": [
    "(X_train, y_train), (X_test, y_test) = mnist.load_data()"
   ]
  },
  {
   "cell_type": "code",
   "execution_count": 4,
   "id": "2c540e06",
   "metadata": {},
   "outputs": [],
   "source": [
    "X_train = X_train / 255\n",
    "X_test = X_test / 255"
   ]
  },
  {
   "cell_type": "code",
   "execution_count": 5,
   "id": "756ad1ed",
   "metadata": {},
   "outputs": [],
   "source": [
    "from tensorflow.keras.models import Sequential\n",
    "from tensorflow.keras.layers import Dense, Reshape, Flatten\n",
    "from tensorflow.keras.optimizers import SGD\n",
    "\n",
    "encoder = Sequential([\n",
    "    (Flatten(input_shape=[28,28])),\n",
    "    (Dense(400,activation=\"relu\")),\n",
    "    (Dense(200,activation=\"relu\")),\n",
    "    (Dense(100,activation=\"relu\")),\n",
    "    (Dense(50,activation=\"relu\")),\n",
    "    (Dense(25,activation=\"relu\"))  # Going down to 25 dimensions out of 784 (28*28)\n",
    "])"
   ]
  },
  {
   "cell_type": "code",
   "execution_count": 6,
   "id": "1bea8311",
   "metadata": {},
   "outputs": [],
   "source": [
    "decoder = Sequential([\n",
    "    (Dense(50,input_shape=[25],activation='relu')),\n",
    "    (Dense(100,activation='relu')),\n",
    "    (Dense(200,activation='relu')),\n",
    "    (Dense(400,activation='relu')),\n",
    "    (Dense(28 * 28, activation=\"sigmoid\")), # Only two possibilities, does output image match input's image\n",
    "    # or not?\n",
    "    (Reshape([28, 28]))  # Converting 1D data back to 2D\n",
    "])"
   ]
  },
  {
   "cell_type": "code",
   "execution_count": 7,
   "id": "38a0b49e",
   "metadata": {},
   "outputs": [],
   "source": [
    "autoencoder = Sequential([encoder, decoder])\n",
    "autoencoder.compile(loss=\"binary_crossentropy\", optimizer=SGD(learning_rate=1.5), metrics=['accuracy'])"
   ]
  },
  {
   "cell_type": "code",
   "execution_count": 8,
   "id": "39c5a459",
   "metadata": {
    "scrolled": false
   },
   "outputs": [
    {
     "name": "stdout",
     "output_type": "stream",
     "text": [
      "Epoch 1/5\n",
      "1875/1875 [==============================] - 15s 7ms/step - loss: 0.2463 - accuracy: 0.0946 - val_loss: 0.2041 - val_accuracy: 0.1416\n",
      "Epoch 2/5\n",
      "1875/1875 [==============================] - 13s 7ms/step - loss: 0.1758 - accuracy: 0.1760 - val_loss: 0.1598 - val_accuracy: 0.2008\n",
      "Epoch 3/5\n",
      "1875/1875 [==============================] - 12s 6ms/step - loss: 0.1532 - accuracy: 0.2097 - val_loss: 0.1435 - val_accuracy: 0.2167\n",
      "Epoch 4/5\n",
      "1875/1875 [==============================] - 12s 6ms/step - loss: 0.1426 - accuracy: 0.2220 - val_loss: 0.1344 - val_accuracy: 0.2293\n",
      "Epoch 5/5\n",
      "1875/1875 [==============================] - 11s 6ms/step - loss: 0.1353 - accuracy: 0.2317 - val_loss: 0.1371 - val_accuracy: 0.2303\n"
     ]
    },
    {
     "data": {
      "text/plain": [
       "<tensorflow.python.keras.callbacks.History at 0x7f8801f80f50>"
      ]
     },
     "execution_count": 8,
     "metadata": {},
     "output_type": "execute_result"
    }
   ],
   "source": [
    "autoencoder.fit(X_train, X_train, epochs=5,validation_data=(X_test, X_test))"
   ]
  },
  {
   "cell_type": "code",
   "execution_count": 9,
   "id": "2ed9df6b",
   "metadata": {},
   "outputs": [],
   "source": [
    "passed_images = autoencoder.predict(X_test[:10])"
   ]
  },
  {
   "cell_type": "code",
   "execution_count": 10,
   "id": "5c10a5ce",
   "metadata": {
    "scrolled": false
   },
   "outputs": [
    {
     "name": "stdout",
     "output_type": "stream",
     "text": [
      "Original image\n"
     ]
    },
    {
     "data": {
      "image/png": "[encoded data removed]",
      "text/plain": [
       "<Figure size 432x288 with 1 Axes>"
      ]
     },
     "metadata": {
      "needs_background": "light"
     },
     "output_type": "display_data"
    },
    {
     "name": "stdout",
     "output_type": "stream",
     "text": [
      "Image from the autoencoder\n"
     ]
    },
    {
     "data": {
      "text/plain": [
       "<matplotlib.image.AxesImage at 0x7f8803b14850>"
      ]
     },
     "execution_count": 10,
     "metadata": {},
     "output_type": "execute_result"
    },
    {
     "data": {
      "image/png": "[encoded data removed]",
      "text/plain": [
       "<Figure size 432x288 with 1 Axes>"
      ]
     },
     "metadata": {
      "needs_background": "light"
     },
     "output_type": "display_data"
    }
   ],
   "source": [
    "n = 3\n",
    "\n",
    "print('Original image')\n",
    "plt.imshow(X_test[n])\n",
    "plt.show()\n",
    "print('Image from the autoencoder')\n",
    "plt.imshow(passed_images[n])"
   ]
  },
  {
   "cell_type": "code",
   "execution_count": 11,
   "id": "830baba2",
   "metadata": {},
   "outputs": [],
   "source": [
    "from tensorflow.keras.layers import GaussianNoise\n",
    "\n",
    "sample = GaussianNoise(0.2)\n",
    "\n",
    "noisey = sample(X_test[:10], training=True)"
   ]
  },
  {
   "cell_type": "code",
   "execution_count": 13,
   "id": "18288706",
   "metadata": {},
   "outputs": [
    {
     "name": "stdout",
     "output_type": "stream",
     "text": [
      "Original image\n"
     ]
    },
    {
     "data": {
      "image/png": "[encoded data removed]",
      "text/plain": [
       "<Figure size 432x288 with 1 Axes>"
      ]
     },
     "metadata": {
      "needs_background": "light"
     },
     "output_type": "display_data"
    },
    {
     "name": "stdout",
     "output_type": "stream",
     "text": [
      "Noisey version\n"
     ]
    },
    {
     "data": {
      "text/plain": [
       "<matplotlib.image.AxesImage at 0x7f8823ae0790>"
      ]
     },
     "execution_count": 13,
     "metadata": {},
     "output_type": "execute_result"
    },
    {
     "data": {
      "image/png": "[encoded data removed]",
      "text/plain": [
       "<Figure size 432x288 with 1 Axes>"
      ]
     },
     "metadata": {
      "needs_background": "light"
     },
     "output_type": "display_data"
    }
   ],
   "source": [
    "n = 3\n",
    "\n",
    "print('Original image')\n",
    "plt.imshow(X_test[n])\n",
    "plt.show()\n",
    "print('Noisey version')\n",
    "plt.imshow(noisey[n])"
   ]
  },
  {
   "cell_type": "markdown",
   "id": "588764a6",
   "metadata": {},
   "source": [
    "# Making Noise Removal Autoencoder"
   ]
  },
  {
   "cell_type": "code",
   "execution_count": 14,
   "id": "2460b7e2",
   "metadata": {},
   "outputs": [],
   "source": [
    "encoder = Sequential([\n",
    "    (Flatten(input_shape=[28,28])),\n",
    "    \n",
    "    (GaussianNoise(0.2)),\n",
    "    \n",
    "    (Dense(400,activation=\"relu\")),\n",
    "    (Dense(200,activation=\"relu\")),\n",
    "    (Dense(100,activation=\"relu\")),\n",
    "    (Dense(50,activation=\"relu\")),\n",
    "    (Dense(25,activation=\"relu\"))  # Going down to 25 dimensions out of 784 (28*28)\n",
    "])"
   ]
  },
  {
   "cell_type": "code",
   "execution_count": 15,
   "id": "cb2941c9",
   "metadata": {},
   "outputs": [],
   "source": [
    "decoder = Sequential([\n",
    "    (Dense(50,input_shape=[25],activation='relu')),\n",
    "    (Dense(100,activation='relu')),\n",
    "    (Dense(200,activation='relu')),\n",
    "    (Dense(400,activation='relu')),\n",
    "    (Dense(28 * 28, activation=\"sigmoid\")), # Only two possibilities, does output image match input's image\n",
    "    # or not?\n",
    "    (Reshape([28, 28]))  # Converting 1D data back to 2D\n",
    "])"
   ]
  },
  {
   "cell_type": "code",
   "execution_count": 16,
   "id": "4f2e0c2c",
   "metadata": {},
   "outputs": [],
   "source": [
    "noise_remover = Sequential([encoder, decoder])\n",
    "\n",
    "noise_remover.compile('adam', 'binary_crossentropy', metrics=['accuracy'])"
   ]
  },
  {
   "cell_type": "code",
   "execution_count": 17,
   "id": "b026021f",
   "metadata": {},
   "outputs": [
    {
     "name": "stdout",
     "output_type": "stream",
     "text": [
      "Epoch 1/8\n",
      "1875/1875 [==============================] - 15s 7ms/step - loss: 0.1781 - accuracy: 0.1753\n",
      "Epoch 2/8\n",
      "1875/1875 [==============================] - 12s 6ms/step - loss: 0.1374 - accuracy: 0.2296\n",
      "Epoch 3/8\n",
      "1875/1875 [==============================] - 13s 7ms/step - loss: 0.1268 - accuracy: 0.2429\n",
      "Epoch 4/8\n",
      "1875/1875 [==============================] - 14s 7ms/step - loss: 0.1216 - accuracy: 0.2499\n",
      "Epoch 5/8\n",
      "1875/1875 [==============================] - 13s 7ms/step - loss: 0.1176 - accuracy: 0.2554\n",
      "Epoch 6/8\n",
      "1875/1875 [==============================] - 16s 8ms/step - loss: 0.1145 - accuracy: 0.2605\n",
      "Epoch 7/8\n",
      "1875/1875 [==============================] - 14s 7ms/step - loss: 0.1119 - accuracy: 0.2640\n",
      "Epoch 8/8\n",
      "1875/1875 [==============================] - 14s 7ms/step - loss: 0.1098 - accuracy: 0.2667\n"
     ]
    },
    {
     "data": {
      "text/plain": [
       "<tensorflow.python.keras.callbacks.History at 0x7f882365fc50>"
      ]
     },
     "execution_count": 17,
     "metadata": {},
     "output_type": "execute_result"
    }
   ],
   "source": [
    "noise_remover.fit(X_train, X_train, epochs=8)"
   ]
  },
  {
   "cell_type": "code",
   "execution_count": 18,
   "id": "09672d76",
   "metadata": {},
   "outputs": [],
   "source": [
    "noisey_images = sample(X_test[:10], training=True)"
   ]
  },
  {
   "cell_type": "code",
   "execution_count": 19,
   "id": "babb4874",
   "metadata": {},
   "outputs": [],
   "source": [
    "denoised_images = noise_remover(noisey_images)"
   ]
  },
  {
   "cell_type": "code",
   "execution_count": 21,
   "id": "8ce3f40c",
   "metadata": {},
   "outputs": [
    {
     "name": "stdout",
     "output_type": "stream",
     "text": [
      "Original image\n"
     ]
    },
    {
     "data": {
      "image/png": "[encoded data removed]",
      "text/plain": [
       "<Figure size 432x288 with 1 Axes>"
      ]
     },
     "metadata": {
      "needs_background": "light"
     },
     "output_type": "display_data"
    },
    {
     "name": "stdout",
     "output_type": "stream",
     "text": [
      "Noisey version\n"
     ]
    },
    {
     "data": {
      "image/png": "[encoded data removed]",
      "text/plain": [
       "<Figure size 432x288 with 1 Axes>"
      ]
     },
     "metadata": {
      "needs_background": "light"
     },
     "output_type": "display_data"
    },
    {
     "name": "stdout",
     "output_type": "stream",
     "text": [
      "Denoised version\n"
     ]
    },
    {
     "data": {
      "text/plain": [
       "<matplotlib.image.AxesImage at 0x7f87f3613490>"
      ]
     },
     "execution_count": 21,
     "metadata": {},
     "output_type": "execute_result"
    },
    {
     "data": {
      "image/png": "[encoded data removed]",
      "text/plain": [
       "<Figure size 432x288 with 1 Axes>"
      ]
     },
     "metadata": {
      "needs_background": "light"
     },
     "output_type": "display_data"
    }
   ],
   "source": [
    "n = 3\n",
    "\n",
    "print('Original image')\n",
    "plt.imshow(X_test[n])\n",
    "plt.show()\n",
    "print('Noisey version')\n",
    "plt.imshow(noisey_images[n])\n",
    "plt.show()\n",
    "print('Denoised version')\n",
    "plt.imshow(denoised_images[n])"
   ]
  }
 ],
 "metadata": {
  "kernelspec": {
   "display_name": "Python 3",
   "language": "python",
   "name": "python3"
  },
  "language_info": {
   "codemirror_mode": {
    "name": "ipython",
    "version": 3
   },
   "file_extension": ".py",
   "mimetype": "text/x-python",
   "name": "python",
   "nbconvert_exporter": "python",
   "pygments_lexer": "ipython3",
   "version": "3.7.11"
  }
 },
 "nbformat": 4,
 "nbformat_minor": 5
}
