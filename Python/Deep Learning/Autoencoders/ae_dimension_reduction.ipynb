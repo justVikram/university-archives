{
 "cells": [
  {
   "cell_type": "markdown",
   "id": "216ce860",
   "metadata": {},
   "source": [
    "# Autoencoders for Images\n",
    "\n",
    "* It can remove noise from images as it can recognize important features.\n",
    "\n",
    "* First, recreate input images in the output."
   ]
  },
  {
   "cell_type": "code",
   "execution_count": 1,
   "id": "2504175c",
   "metadata": {},
   "outputs": [],
   "source": [
    "import numpy as np\n",
    "import pandas as pd\n",
    "import matplotlib.pyplot as plt"
   ]
  },
  {
   "cell_type": "code",
   "execution_count": 2,
   "id": "224e0224",
   "metadata": {},
   "outputs": [],
   "source": [
    "from tensorflow.keras.datasets import mnist"
   ]
  },
  {
   "cell_type": "code",
   "execution_count": 3,
   "id": "0266d2c1",
   "metadata": {},
   "outputs": [],
   "source": [
    "(X_train, y_train), (X_test, y_test) = mnist.load_data()"
   ]
  },
  {
   "cell_type": "code",
   "execution_count": 4,
   "id": "2c540e06",
   "metadata": {},
   "outputs": [],
   "source": [
    "X_train = X_train / 255\n",
    "X_test = X_test / 255"
   ]
  },
  {
   "cell_type": "code",
   "execution_count": 5,
   "id": "756ad1ed",
   "metadata": {},
   "outputs": [],
   "source": [
    "from tensorflow.keras.models import Sequential\n",
    "from tensorflow.keras.layers import Dense, Reshape, Flatten\n",
    "from tensorflow.keras.optimizers import SGD\n",
    "\n",
    "encoder = Sequential([\n",
    "    (Flatten(input_shape=[28,28])),\n",
    "    (Dense(400,activation=\"relu\")),\n",
    "    (Dense(200,activation=\"relu\")),\n",
    "    (Dense(100,activation=\"relu\")),\n",
    "    (Dense(50,activation=\"relu\")),\n",
    "    (Dense(25,activation=\"relu\"))  # Going down to 25 dimensions out of 784 (28*28)\n",
    "])"
   ]
  },
  {
   "cell_type": "code",
   "execution_count": 6,
   "id": "1bea8311",
   "metadata": {},
   "outputs": [],
   "source": [
    "decoder = Sequential([\n",
    "    (Dense(50,input_shape=[25],activation='relu')),\n",
    "    (Dense(100,activation='relu')),\n",
    "    (Dense(200,activation='relu')),\n",
    "    (Dense(400,activation='relu')),\n",
    "    (Dense(28 * 28, activation=\"sigmoid\")), # Only two possibilities, does output image match input's image\n",
    "    # or not?\n",
    "    (Reshape([28, 28]))  # Converting 1D data back to 2D\n",
    "])"
   ]
  },
  {
   "cell_type": "code",
   "execution_count": 7,
   "id": "38a0b49e",
   "metadata": {},
   "outputs": [],
   "source": [
    "autoencoder = Sequential([encoder, decoder])\n",
    "autoencoder.compile(loss=\"binary_crossentropy\", optimizer=SGD(learning_rate=1.5), metrics=['accuracy'])"
   ]
  },
  {
   "cell_type": "code",
   "execution_count": 8,
   "id": "39c5a459",
   "metadata": {
    "scrolled": false
   },
   "outputs": [
    {
     "name": "stdout",
     "output_type": "stream",
     "text": [
      "Epoch 1/5\n",
      "1875/1875 [==============================] - 12s 6ms/step - loss: 0.2443 - accuracy: 0.0953 - val_loss: 0.2082 - val_accuracy: 0.1183\n",
      "Epoch 2/5\n",
      "1875/1875 [==============================] - 9s 5ms/step - loss: 0.1780 - accuracy: 0.1713 - val_loss: 0.1647 - val_accuracy: 0.1802\n",
      "Epoch 3/5\n",
      "1875/1875 [==============================] - 9s 5ms/step - loss: 0.1565 - accuracy: 0.2016 - val_loss: 0.1491 - val_accuracy: 0.2103\n",
      "Epoch 4/5\n",
      "1875/1875 [==============================] - 9s 5ms/step - loss: 0.1463 - accuracy: 0.2165 - val_loss: 0.1428 - val_accuracy: 0.2138\n",
      "Epoch 5/5\n",
      "1875/1875 [==============================] - 9s 5ms/step - loss: 0.1392 - accuracy: 0.2254 - val_loss: 0.1339 - val_accuracy: 0.2249\n"
     ]
    },
    {
     "data": {
      "text/plain": [
       "<tensorflow.python.keras.callbacks.History at 0x7f975777da90>"
      ]
     },
     "execution_count": 8,
     "metadata": {},
     "output_type": "execute_result"
    }
   ],
   "source": [
    "autoencoder.fit(X_train, X_train, epochs=5,validation_data=(X_test, X_test))"
   ]
  },
  {
   "cell_type": "code",
   "execution_count": 9,
   "id": "2ed9df6b",
   "metadata": {},
   "outputs": [],
   "source": [
    "passed_images = autoencoder.predict(X_test[:10])"
   ]
  },
  {
   "cell_type": "code",
   "execution_count": 10,
   "id": "5c10a5ce",
   "metadata": {
    "scrolled": false
   },
   "outputs": [
    {
     "name": "stdout",
     "output_type": "stream",
     "text": [
      "Original image\n"
     ]
    },
    {
     "data": {
      "image/png": "[encoded data removed]",
      "text/plain": [
       "<Figure size 432x288 with 1 Axes>"
      ]
     },
     "metadata": {
      "needs_background": "light"
     },
     "output_type": "display_data"
    },
    {
     "name": "stdout",
     "output_type": "stream",
     "text": [
      "Image from the autoencoder\n"
     ]
    },
    {
     "data": {
      "text/plain": [
       "<matplotlib.image.AxesImage at 0x7f9758934f50>"
      ]
     },
     "execution_count": 10,
     "metadata": {},
     "output_type": "execute_result"
    },
    {
     "data": {
      "image/png": "[encoded data removed]",
      "text/plain": [
       "<Figure size 432x288 with 1 Axes>"
      ]
     },
     "metadata": {
      "needs_background": "light"
     },
     "output_type": "display_data"
    }
   ],
   "source": [
    "n = 3\n",
    "\n",
    "print('Original image')\n",
    "plt.imshow(X_test[n])\n",
    "plt.show()\n",
    "print('Image from the autoencoder')\n",
    "plt.imshow(passed_images[n])"
   ]
  }
 ],
 "metadata": {
  "kernelspec": {
   "display_name": "Python 3",
   "language": "python",
   "name": "python3"
  },
  "language_info": {
   "codemirror_mode": {
    "name": "ipython",
    "version": 3
   },
   "file_extension": ".py",
   "mimetype": "text/x-python",
   "name": "python",
   "nbconvert_exporter": "python",
   "pygments_lexer": "ipython3",
   "version": "3.7.11"
  }
 },
 "nbformat": 4,
 "nbformat_minor": 5
}
