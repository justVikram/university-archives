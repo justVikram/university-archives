{
 "cells": [
  {
   "cell_type": "markdown",
   "id": "dd63ac21",
   "metadata": {},
   "source": [
    "# Generative Adversarial Networks\n",
    "\n",
    "## Introduction\n",
    "\n",
    "* Uses two networks competing against each other to generate data.\n",
    "\n",
    "* They're described as a counterfeiter versus a detective.\n",
    "\n",
    "## Working\n",
    "\n",
    "### Generator (Counterfeiter)\n",
    "\n",
    "* Receives random noise (Gaussian distribution).\n",
    "\n",
    "* Outputs data (often an image).\n",
    "\n",
    "* Its goal is to create images that fool the discriminator.\n",
    "\n",
    "* It keeps improving the images it outputs so as to fool the discriminator better.\n",
    "\n",
    "### Discriminator (Detective)\n",
    "\n",
    "* Takes a data set consisting of real images from the real data set and fake images from the generator.\n",
    "\n",
    "* Attempts to classift real vs fake images (it is always a binary classification).\n",
    "\n",
    "## Phases\n",
    "\n",
    "### Phase 1: Train Discriminator\n",
    "\n",
    "* Real images (labeled 1) are combined with fake images from generator (labeled 0).\n",
    "\n",
    "* Discriminator trains to distinguish real from fake.\n",
    "\n",
    "**Here, backpropagation only happens on discriminator weights.**\n",
    "\n",
    "### Phase 2: Train Generator\n",
    "\n",
    "* Produce fake images with generator.\n",
    "\n",
    "* Feed only these fake images to the generator with all labels set as real (1).\n",
    "\n",
    "* This causes the generator to attempt to produce images the discriminator believes to be real.\n",
    "\n",
    "* The generator never gets to see the actual real images, it only generates convincing images based off of       gradient flowing back through the discriminator.\n",
    "\n",
    "**Here, backpropagation only happens on generator weights.**\n"
   ]
  },
  {
   "cell_type": "code",
   "execution_count": 1,
   "id": "4b9e8cdb",
   "metadata": {},
   "outputs": [],
   "source": [
    "import numpy as np\n",
    "import pandas as pd\n",
    "import matplotlib.pyplot as plt\n",
    "import tensorflow as tf"
   ]
  },
  {
   "cell_type": "code",
   "execution_count": 2,
   "id": "aa271d80",
   "metadata": {},
   "outputs": [],
   "source": [
    "from tensorflow.keras.datasets import mnist"
   ]
  },
  {
   "cell_type": "code",
   "execution_count": 3,
   "id": "6f16acf0",
   "metadata": {},
   "outputs": [],
   "source": [
    "(X_train, y_train), (X_test, y_test) = mnist.load_data()"
   ]
  },
  {
   "cell_type": "markdown",
   "id": "fe6cc4fc",
   "metadata": {},
   "source": [
    "# Filtering out Data\n",
    "\n",
    "* For checking the performance of GAN in a faster way."
   ]
  },
  {
   "cell_type": "code",
   "execution_count": 4,
   "id": "b6856788",
   "metadata": {},
   "outputs": [
    {
     "data": {
      "text/plain": [
       "<matplotlib.image.AxesImage at 0x7fd6636bdf10>"
      ]
     },
     "execution_count": 4,
     "metadata": {},
     "output_type": "execute_result"
    },
    {
     "data": {
      "image/png": "[encoded data removed]",
      "text/plain": [
       "<Figure size 432x288 with 1 Axes>"
      ]
     },
     "metadata": {
      "needs_background": "light"
     },
     "output_type": "display_data"
    }
   ],
   "source": [
    "only_zeros = X_train[y_train==0]\n",
    "plt.imshow(only_zeros[10])"
   ]
  },
  {
   "cell_type": "markdown",
   "id": "874fcfb9",
   "metadata": {},
   "source": [
    "# Creating Discriminator"
   ]
  },
  {
   "cell_type": "code",
   "execution_count": 5,
   "id": "8bff89f9",
   "metadata": {},
   "outputs": [],
   "source": [
    "from tensorflow.keras.models import Sequential\n",
    "from tensorflow.keras.layers import Dense, Reshape, Flatten"
   ]
  },
  {
   "cell_type": "code",
   "execution_count": 6,
   "id": "16f3eb3d",
   "metadata": {},
   "outputs": [],
   "source": [
    "discriminator = Sequential()\n",
    "\n",
    "discriminator.add(Flatten(input_shape=[28, 28]))\n",
    "discriminator.add(Dense(150, activation='relu'))\n",
    "discriminator.add(Dense(100, activation='relu'))\n",
    "\n",
    "discriminator.add(Dense(1, activation='sigmoid')) # Last layer will always remain the same\n",
    "\n",
    "discriminator.compile('adam', 'binary_crossentropy')"
   ]
  },
  {
   "cell_type": "markdown",
   "id": "4436cd3d",
   "metadata": {},
   "source": [
    "# Creating Generator\n",
    "\n",
    "* Its structure is a lot like a decoder."
   ]
  },
  {
   "cell_type": "code",
   "execution_count": 7,
   "id": "638c9785",
   "metadata": {},
   "outputs": [],
   "source": [
    "codings_size = 100 # Must be lesser than 784, but not too less\n",
    "\n",
    "generator = Sequential()\n",
    "\n",
    "generator.add(Dense(100, activation='relu', input_shape=[codings_size]))\n",
    "generator.add(Dense(150, activation='relu'))\n",
    "generator.add(Dense(784, activation='relu'))\n",
    "generator.add(Reshape([28, 28]))"
   ]
  },
  {
   "cell_type": "markdown",
   "id": "b8cb4e97",
   "metadata": {},
   "source": [
    "# Creating GAN"
   ]
  },
  {
   "cell_type": "code",
   "execution_count": 8,
   "id": "93f75802",
   "metadata": {},
   "outputs": [],
   "source": [
    "GAN = Sequential([generator, discriminator])\n",
    "\n",
    "discriminator.trainable = False # The discriminator should not be trained during the second phase\n",
    "\n",
    "GAN.compile('adam', 'binary_crossentropy')"
   ]
  },
  {
   "cell_type": "code",
   "execution_count": 9,
   "id": "6adf9577",
   "metadata": {
    "scrolled": true
   },
   "outputs": [
    {
     "name": "stdout",
     "output_type": "stream",
     "text": [
      "Model: \"sequential_1\"\n",
      "_________________________________________________________________\n",
      "Layer (type)                 Output Shape              Param #   \n",
      "=================================================================\n",
      "dense_3 (Dense)              (None, 100)               10100     \n",
      "_________________________________________________________________\n",
      "dense_4 (Dense)              (None, 150)               15150     \n",
      "_________________________________________________________________\n",
      "dense_5 (Dense)              (None, 784)               118384    \n",
      "_________________________________________________________________\n",
      "reshape (Reshape)            (None, 28, 28)            0         \n",
      "=================================================================\n",
      "Total params: 143,634\n",
      "Trainable params: 143,634\n",
      "Non-trainable params: 0\n",
      "_________________________________________________________________\n"
     ]
    }
   ],
   "source": [
    "GAN.layers[0].summary() # Corresponds to Discriminator"
   ]
  },
  {
   "cell_type": "code",
   "execution_count": 10,
   "id": "9a7286dd",
   "metadata": {},
   "outputs": [
    {
     "name": "stdout",
     "output_type": "stream",
     "text": [
      "Model: \"sequential\"\n",
      "_________________________________________________________________\n",
      "Layer (type)                 Output Shape              Param #   \n",
      "=================================================================\n",
      "flatten (Flatten)            (None, 784)               0         \n",
      "_________________________________________________________________\n",
      "dense (Dense)                (None, 150)               117750    \n",
      "_________________________________________________________________\n",
      "dense_1 (Dense)              (None, 100)               15100     \n",
      "_________________________________________________________________\n",
      "dense_2 (Dense)              (None, 1)                 101       \n",
      "=================================================================\n",
      "Total params: 132,951\n",
      "Trainable params: 0\n",
      "Non-trainable params: 132,951\n",
      "_________________________________________________________________\n"
     ]
    }
   ],
   "source": [
    "GAN.layers[1].summary() # Corresponds to Generator"
   ]
  },
  {
   "cell_type": "markdown",
   "id": "e779496c",
   "metadata": {},
   "source": [
    "# Setting up Training Slices"
   ]
  },
  {
   "cell_type": "code",
   "execution_count": 11,
   "id": "92f17273",
   "metadata": {},
   "outputs": [],
   "source": [
    "batch_size = 30"
   ]
  },
  {
   "cell_type": "code",
   "execution_count": 12,
   "id": "17555ecf",
   "metadata": {},
   "outputs": [],
   "source": [
    "# Similar to my_data = X_train\n",
    "my_data = only_zeros"
   ]
  },
  {
   "cell_type": "code",
   "execution_count": 13,
   "id": "7c603837",
   "metadata": {},
   "outputs": [],
   "source": [
    "dataset = tf.data.Dataset.from_tensor_slices(my_data).shuffle(buffer_size=1000)"
   ]
  },
  {
   "cell_type": "code",
   "execution_count": 14,
   "id": "63f2770e",
   "metadata": {},
   "outputs": [],
   "source": [
    "dataset = dataset.batch(batch_size, drop_remainder=True).prefetch(1)"
   ]
  },
  {
   "cell_type": "code",
   "execution_count": 15,
   "id": "44411a04",
   "metadata": {},
   "outputs": [],
   "source": [
    "epochs = 1"
   ]
  },
  {
   "cell_type": "code",
   "execution_count": 16,
   "id": "e785b0cb",
   "metadata": {},
   "outputs": [
    {
     "name": "stdout",
     "output_type": "stream",
     "text": [
      "Currently on epoch 1...\n",
      "\t Currently on batch number 100 of 197\n"
     ]
    }
   ],
   "source": [
    "generator, discriminator = GAN.layers\n",
    "\n",
    "for epoch in range(epochs):\n",
    "    \n",
    "    print(f'Currently on epoch {epoch + 1}...')\n",
    "\n",
    "    i = 0\n",
    "    \n",
    "    for X_batch in dataset:\n",
    "        \n",
    "        i = i + 1\n",
    "        \n",
    "        if i % 100 == 0:\n",
    "            print(f'\\t Currently on batch number {i} of {len(my_data) // batch_size}')\n",
    "            \n",
    "        # Discriminator Phase\n",
    "        \n",
    "        noise = tf.random.normal(shape=[batch_size, codings_size])\n",
    "\n",
    "        gen_images = generator(noise)\n",
    "        \n",
    "        X_fake_vs_real = tf.concat([gen_images, tf.dtypes.cast(X_batch, tf.float32)], axis=0)\n",
    "        \n",
    "        y1 = tf.constant([[0.0]] * batch_size + [[1.0]] * batch_size)\n",
    "        \n",
    "        discriminator.trainable = True\n",
    "        \n",
    "        discriminator.train_on_batch(X_fake_vs_real, y1)\n",
    "        \n",
    "        # Generator phase\n",
    "        noise = tf.random.normal(shape=[batch_size, codings_size])\n",
    "        \n",
    "        y2 = tf.constant([[1.0]] * batch_size)\n",
    "        \n",
    "        discriminator.trainable = False\n",
    "        \n",
    "        GAN.train_on_batch(noise, y2)"
   ]
  },
  {
   "cell_type": "code",
   "execution_count": 19,
   "id": "792077b4",
   "metadata": {},
   "outputs": [
    {
     "data": {
      "text/plain": [
       "<matplotlib.image.AxesImage at 0x7fd647a57c90>"
      ]
     },
     "execution_count": 19,
     "metadata": {},
     "output_type": "execute_result"
    },
    {
     "data": {
      "image/png": "[encoded data removed]",
      "text/plain": [
       "<Figure size 432x288 with 1 Axes>"
      ]
     },
     "metadata": {
      "needs_background": "light"
     },
     "output_type": "display_data"
    }
   ],
   "source": [
    "noise = tf.random.normal(shape=[10, codings_size])\n",
    "\n",
    "plt.imshow(noise)"
   ]
  },
  {
   "cell_type": "code",
   "execution_count": 20,
   "id": "f3af18f9",
   "metadata": {},
   "outputs": [
    {
     "data": {
      "text/plain": [
       "TensorShape([10, 28, 28])"
      ]
     },
     "execution_count": 20,
     "metadata": {},
     "output_type": "execute_result"
    }
   ],
   "source": [
    "images = generator(noise)\n",
    "images.shape"
   ]
  },
  {
   "cell_type": "code",
   "execution_count": 24,
   "id": "9c00af18",
   "metadata": {},
   "outputs": [
    {
     "data": {
      "text/plain": [
       "<matplotlib.image.AxesImage at 0x7fd6479ffd50>"
      ]
     },
     "execution_count": 24,
     "metadata": {},
     "output_type": "execute_result"
    },
    {
     "data": {
      "image/png": "[encoded data removed]",
      "text/plain": [
       "<Figure size 432x288 with 1 Axes>"
      ]
     },
     "metadata": {
      "needs_background": "light"
     },
     "output_type": "display_data"
    }
   ],
   "source": [
    "plt.imshow(images[0])"
   ]
  },
  {
   "cell_type": "markdown",
   "id": "ba02799d",
   "metadata": {},
   "source": [
    "# Model Collapse..."
   ]
  },
  {
   "cell_type": "code",
   "execution_count": 25,
   "id": "9ddb88ba",
   "metadata": {},
   "outputs": [
    {
     "data": {
      "text/plain": [
       "<matplotlib.image.AxesImage at 0x7fd644c58f10>"
      ]
     },
     "execution_count": 25,
     "metadata": {},
     "output_type": "execute_result"
    },
    {
     "data": {
      "image/png": "[encoded data removed]",
      "text/plain": [
       "<Figure size 432x288 with 1 Axes>"
      ]
     },
     "metadata": {
      "needs_background": "light"
     },
     "output_type": "display_data"
    }
   ],
   "source": [
    "plt.imshow(images[8])"
   ]
  }
 ],
 "metadata": {
  "kernelspec": {
   "display_name": "Python 3",
   "language": "python",
   "name": "python3"
  },
  "language_info": {
   "codemirror_mode": {
    "name": "ipython",
    "version": 3
   },
   "file_extension": ".py",
   "mimetype": "text/x-python",
   "name": "python",
   "nbconvert_exporter": "python",
   "pygments_lexer": "ipython3",
   "version": "3.7.11"
  }
 },
 "nbformat": 4,
 "nbformat_minor": 5
}
