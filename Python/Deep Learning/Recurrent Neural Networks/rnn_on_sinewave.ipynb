{
 "cells": [
  {
   "cell_type": "markdown",
   "id": "eed39ea4",
   "metadata": {},
   "source": [
    "# Recurrent Neural Networks\n",
    "\n",
    "* CNNs were more effective for use with 2D image data.\n",
    "\n",
    "* In the same way, RNNs are more effective for sequence data, such as time-stamped             data, sentences, audio, etc.\n",
    "\n",
    "* Goal is to learn off of historical info, and make forecasts.\n",
    "\n",
    "* Also used in predictive texts.\n",
    "\n",
    "## Working\n",
    "\n",
    "* Consider example of predictive text.\n",
    "\n",
    "* To be able to predict the next word, the neuron must know of the words that have been       typed previously, i.e. it must be made aware of the previous history of outputs.\n",
    "\n",
    "* Simple way to do this is to feed the output of the neuron at T-1 seconds to the same         neuron at T seconds, along with any new input at T.\n",
    "\n",
    "* Cells that are a function of inputs from previous time steps are also known as **memory       cells**.\n",
    "\n",
    "* RNNs can take both sequences and single-vector values.\n",
    "\n",
    "## Architectures for RNNs\n",
    "\n",
    "* Sequence to Sequence (many to many)\n",
    "    * Example: Given 5 previous words, predict the next 5.\n",
    "    \n",
    "* Sequence to Vector (many to one)\n",
    "    * Given 5 previous words, predict the next word.\n",
    "\n",
    "* Vector to Sequence (one to many)\n",
    "    * Given one word, predict the next N words.\n",
    "\n",
    "\n",
    "## Disadvantages\n",
    "\n",
    "* A basic RNN can only remember the previous output, but it is desirable that it could keep   track of a larger history.\n",
    "\n",
    "# Vanishing & Exploding Gradients\n",
    "\n",
    "* Gradients are used to adjust weights and biases in our network.\n",
    "\n",
    "* Backpropagation goes backward from output to input layer, propagating the error gradient.\n",
    "\n",
    "* For deeper networks, this leads to problems such as vanishing and exploding gradients.\n",
    "\n",
    "## Vanishing Gradient\n",
    "\n",
    "* As we go back to the lower layers, gradients get very small and as a result, weights do     not get changed at lower levels (close to the input layer).\n",
    "\n",
    "* When **n** hidden layers use an activation like the sigmoid function, **n** small           derivates are multiplied together.\n",
    "\n",
    "* The gradient could decrease exponentially as we propogate down to the initial layers.\n",
    "\n",
    "### Solution\n",
    "\n",
    "* Use ReLU or leaky-ReLU or tan-hyperbolic functions.\n",
    "\n",
    "* Perform batch normalization, where models normalizes each batch using the batch mean and     standard deviation.\n",
    "\n",
    "## Exploding Gradient\n",
    "\n",
    "* The opposite can also occur, gradients explode on the way back to input layer, causing issues.\n",
    "\n",
    "### Solution\n",
    "\n",
    "* Use gradient clipping to cut off gradients to be in between -1 and +1 only.\n",
    "\n",
    "**THESE ISSUES ARE FACED BY ANNs, RNNS POSE THEIR OWN GRADIENT CHALLENGES. WE FIX THOSE BY USING LSTM.**\n",
    "\n",
    "# Long-Short Term Memory Cells\n",
    "\n",
    "* The solutions presented before can be applied to RNNs, but they slow down training time.\n",
    "\n",
    "* A neuron will start to forget the first inputs as information is lost at each step going     through the RNN.\n",
    "\n",
    "* This problem is fixed by LSTM.\n",
    "\n",
    "## Working\n",
    "\n",
    "* Equation used to describe a basic RNN:  \n",
    "\n",
    "  $$Output(T) = Input(T) + Output(T-1)$$\n",
    "  \n",
    "* Equation to describe LSTM:  \n",
    "\n",
    "  $$New LTM, New STM, Output(T) = LTM + STM + Input(T)$$\n",
    "  \n",
    "## Components of an LSTM\n",
    "\n",
    "* Forget Gate\n",
    "    * Decides what to forget from previous memory units\n",
    "    \n",
    "* Input Gate\n",
    "    * Decides what to accept into neuron.\n",
    "\n",
    "* Output Gate\n",
    "    * Outputs the new memory.\n",
    "\n",
    "* Update Gate\n",
    "    * Updates the memory.\n",
    "    \n",
    "\n",
    "# Gated Recurrent Unit\n",
    "\n",
    "* A tweaked version of LSTM that combines forget and input gate into a single update gate.\n"
   ]
  },
  {
   "cell_type": "markdown",
   "id": "36a7d0f3",
   "metadata": {},
   "source": [
    "# Basic RNN on Sine Wave\n",
    "\n",
    "* Begin by splitting data into test and train set.\n",
    "\n",
    "* The splitting should be done while maintaing the pattern of the data."
   ]
  },
  {
   "cell_type": "code",
   "execution_count": 1,
   "id": "6015642d",
   "metadata": {},
   "outputs": [],
   "source": [
    "import pandas as pd\n",
    "import numpy as np\n",
    "import matplotlib.pyplot as plt\n",
    "import seaborn as sbn"
   ]
  },
  {
   "cell_type": "code",
   "execution_count": 2,
   "id": "6aa4557e",
   "metadata": {},
   "outputs": [],
   "source": [
    "x = np.linspace(0, 50, 501) # 501 equally spaced values betwwen 0 and 50"
   ]
  },
  {
   "cell_type": "code",
   "execution_count": 3,
   "id": "2aa13dde",
   "metadata": {},
   "outputs": [],
   "source": [
    "y = np.sin(x)"
   ]
  },
  {
   "cell_type": "code",
   "execution_count": 4,
   "id": "3fadb461",
   "metadata": {},
   "outputs": [
    {
     "data": {
      "text/plain": [
       "[<matplotlib.lines.Line2D at 0x7fed9a791ad0>]"
      ]
     },
     "execution_count": 4,
     "metadata": {},
     "output_type": "execute_result"
    },
    {
     "data": {
      "image/png": "[encoded data removed]",
      "text/plain": [
       "<Figure size 432x288 with 1 Axes>"
      ]
     },
     "metadata": {
      "needs_background": "light"
     },
     "output_type": "display_data"
    }
   ],
   "source": [
    "plt.plot(x, y)"
   ]
  },
  {
   "cell_type": "code",
   "execution_count": 5,
   "id": "ad8d5811",
   "metadata": {},
   "outputs": [
    {
     "data": {
      "text/html": [
       "<div>\n",
       "<style scoped>\n",
       "    .dataframe tbody tr th:only-of-type {\n",
       "        vertical-align: middle;\n",
       "    }\n",
       "\n",
       "    .dataframe tbody tr th {\n",
       "        vertical-align: top;\n",
       "    }\n",
       "\n",
       "    .dataframe thead th {\n",
       "        text-align: right;\n",
       "    }\n",
       "</style>\n",
       "<table border=\"1\" class=\"dataframe\">\n",
       "  <thead>\n",
       "    <tr style=\"text-align: right;\">\n",
       "      <th></th>\n",
       "      <th>sin(x)</th>\n",
       "    </tr>\n",
       "  </thead>\n",
       "  <tbody>\n",
       "    <tr>\n",
       "      <th>0.0</th>\n",
       "      <td>0.000000</td>\n",
       "    </tr>\n",
       "    <tr>\n",
       "      <th>0.1</th>\n",
       "      <td>0.099833</td>\n",
       "    </tr>\n",
       "    <tr>\n",
       "      <th>0.2</th>\n",
       "      <td>0.198669</td>\n",
       "    </tr>\n",
       "    <tr>\n",
       "      <th>0.3</th>\n",
       "      <td>0.295520</td>\n",
       "    </tr>\n",
       "    <tr>\n",
       "      <th>0.4</th>\n",
       "      <td>0.389418</td>\n",
       "    </tr>\n",
       "    <tr>\n",
       "      <th>...</th>\n",
       "      <td>...</td>\n",
       "    </tr>\n",
       "    <tr>\n",
       "      <th>49.6</th>\n",
       "      <td>-0.617439</td>\n",
       "    </tr>\n",
       "    <tr>\n",
       "      <th>49.7</th>\n",
       "      <td>-0.535823</td>\n",
       "    </tr>\n",
       "    <tr>\n",
       "      <th>49.8</th>\n",
       "      <td>-0.448854</td>\n",
       "    </tr>\n",
       "    <tr>\n",
       "      <th>49.9</th>\n",
       "      <td>-0.357400</td>\n",
       "    </tr>\n",
       "    <tr>\n",
       "      <th>50.0</th>\n",
       "      <td>-0.262375</td>\n",
       "    </tr>\n",
       "  </tbody>\n",
       "</table>\n",
       "<p>501 rows × 1 columns</p>\n",
       "</div>"
      ],
      "text/plain": [
       "        sin(x)\n",
       "0.0   0.000000\n",
       "0.1   0.099833\n",
       "0.2   0.198669\n",
       "0.3   0.295520\n",
       "0.4   0.389418\n",
       "...        ...\n",
       "49.6 -0.617439\n",
       "49.7 -0.535823\n",
       "49.8 -0.448854\n",
       "49.9 -0.357400\n",
       "50.0 -0.262375\n",
       "\n",
       "[501 rows x 1 columns]"
      ]
     },
     "execution_count": 5,
     "metadata": {},
     "output_type": "execute_result"
    }
   ],
   "source": [
    "df = pd.DataFrame(data=y, index=x, columns=[\"sin(x)\"])\n",
    "df"
   ]
  },
  {
   "cell_type": "markdown",
   "id": "e3eaaf9a",
   "metadata": {},
   "source": [
    "# Test-Train Split"
   ]
  },
  {
   "cell_type": "code",
   "execution_count": 6,
   "id": "1fca6e1e",
   "metadata": {},
   "outputs": [
    {
     "data": {
      "text/plain": [
       "50.0"
      ]
     },
     "execution_count": 6,
     "metadata": {},
     "output_type": "execute_result"
    }
   ],
   "source": [
    "cutoff_percent = 0.1\n",
    "\n",
    "n_test_rows = np.round(len(df) * cutoff_percent)\n",
    "n_test_rows"
   ]
  },
  {
   "cell_type": "code",
   "execution_count": 7,
   "id": "a4264bd1",
   "metadata": {},
   "outputs": [
    {
     "data": {
      "text/plain": [
       "451"
      ]
     },
     "execution_count": 7,
     "metadata": {},
     "output_type": "execute_result"
    }
   ],
   "source": [
    "cutoff_index = int(len(df) - n_test_rows)\n",
    "cutoff_index"
   ]
  },
  {
   "cell_type": "code",
   "execution_count": 8,
   "id": "6e330c34",
   "metadata": {},
   "outputs": [
    {
     "data": {
      "text/html": [
       "<div>\n",
       "<style scoped>\n",
       "    .dataframe tbody tr th:only-of-type {\n",
       "        vertical-align: middle;\n",
       "    }\n",
       "\n",
       "    .dataframe tbody tr th {\n",
       "        vertical-align: top;\n",
       "    }\n",
       "\n",
       "    .dataframe thead th {\n",
       "        text-align: right;\n",
       "    }\n",
       "</style>\n",
       "<table border=\"1\" class=\"dataframe\">\n",
       "  <thead>\n",
       "    <tr style=\"text-align: right;\">\n",
       "      <th></th>\n",
       "      <th>sin(x)</th>\n",
       "    </tr>\n",
       "  </thead>\n",
       "  <tbody>\n",
       "    <tr>\n",
       "      <th>0.0</th>\n",
       "      <td>0.000000</td>\n",
       "    </tr>\n",
       "    <tr>\n",
       "      <th>0.1</th>\n",
       "      <td>0.099833</td>\n",
       "    </tr>\n",
       "    <tr>\n",
       "      <th>0.2</th>\n",
       "      <td>0.198669</td>\n",
       "    </tr>\n",
       "    <tr>\n",
       "      <th>0.3</th>\n",
       "      <td>0.295520</td>\n",
       "    </tr>\n",
       "    <tr>\n",
       "      <th>0.4</th>\n",
       "      <td>0.389418</td>\n",
       "    </tr>\n",
       "  </tbody>\n",
       "</table>\n",
       "</div>"
      ],
      "text/plain": [
       "       sin(x)\n",
       "0.0  0.000000\n",
       "0.1  0.099833\n",
       "0.2  0.198669\n",
       "0.3  0.295520\n",
       "0.4  0.389418"
      ]
     },
     "execution_count": 8,
     "metadata": {},
     "output_type": "execute_result"
    }
   ],
   "source": [
    "train = df.iloc[ : cutoff_index]\n",
    "train.head()"
   ]
  },
  {
   "cell_type": "code",
   "execution_count": 9,
   "id": "986f7f44",
   "metadata": {},
   "outputs": [
    {
     "data": {
      "text/html": [
       "<div>\n",
       "<style scoped>\n",
       "    .dataframe tbody tr th:only-of-type {\n",
       "        vertical-align: middle;\n",
       "    }\n",
       "\n",
       "    .dataframe tbody tr th {\n",
       "        vertical-align: top;\n",
       "    }\n",
       "\n",
       "    .dataframe thead th {\n",
       "        text-align: right;\n",
       "    }\n",
       "</style>\n",
       "<table border=\"1\" class=\"dataframe\">\n",
       "  <thead>\n",
       "    <tr style=\"text-align: right;\">\n",
       "      <th></th>\n",
       "      <th>sin(x)</th>\n",
       "    </tr>\n",
       "  </thead>\n",
       "  <tbody>\n",
       "    <tr>\n",
       "      <th>45.1</th>\n",
       "      <td>0.899097</td>\n",
       "    </tr>\n",
       "    <tr>\n",
       "      <th>45.2</th>\n",
       "      <td>0.938307</td>\n",
       "    </tr>\n",
       "    <tr>\n",
       "      <th>45.3</th>\n",
       "      <td>0.968142</td>\n",
       "    </tr>\n",
       "    <tr>\n",
       "      <th>45.4</th>\n",
       "      <td>0.988304</td>\n",
       "    </tr>\n",
       "    <tr>\n",
       "      <th>45.5</th>\n",
       "      <td>0.998591</td>\n",
       "    </tr>\n",
       "  </tbody>\n",
       "</table>\n",
       "</div>"
      ],
      "text/plain": [
       "        sin(x)\n",
       "45.1  0.899097\n",
       "45.2  0.938307\n",
       "45.3  0.968142\n",
       "45.4  0.988304\n",
       "45.5  0.998591"
      ]
     },
     "execution_count": 9,
     "metadata": {},
     "output_type": "execute_result"
    }
   ],
   "source": [
    "test = df.iloc [cutoff_index : ]\n",
    "test.head()"
   ]
  },
  {
   "cell_type": "markdown",
   "id": "71278e75",
   "metadata": {},
   "source": [
    "# Scaling Data\n",
    "\n",
    "* Here, we will be scaling both, features, and the labels.\n",
    "\n",
    "* This is done because we will be feeding the output at T-1 back into the neurons as input     at T."
   ]
  },
  {
   "cell_type": "code",
   "execution_count": 10,
   "id": "fe237ce6",
   "metadata": {},
   "outputs": [],
   "source": [
    "from sklearn.preprocessing import MinMaxScaler\n",
    "\n",
    "scaler = MinMaxScaler()"
   ]
  },
  {
   "cell_type": "code",
   "execution_count": 11,
   "id": "8f352caf",
   "metadata": {},
   "outputs": [],
   "source": [
    "scaled_train = scaler.fit_transform(train)\n",
    "\n",
    "scaled_test = scaler.transform(test)"
   ]
  },
  {
   "cell_type": "markdown",
   "id": "7a64e52c",
   "metadata": {},
   "source": [
    "# Creating Batches for Training\n",
    "\n",
    "* Objective is to provide a sequence of input, and get the output based on it.\n",
    "\n",
    "$$input(0, 2, 4, 6, 8) --> output(10)$$\n",
    "\n",
    "* Here, length refers to length of input sequence, which is 5.\n",
    "\n",
    "* The length value is critical, it should be high enough so the pattern is captured, but       also less to avoid humongous training times.\n",
    "\n",
    "* The batch size is the length of output sequence, which is just 1.\n"
   ]
  },
  {
   "cell_type": "code",
   "execution_count": 12,
   "id": "1d5c36b3",
   "metadata": {},
   "outputs": [],
   "source": [
    "from tensorflow.keras.preprocessing.sequence import TimeseriesGenerator"
   ]
  },
  {
   "cell_type": "code",
   "execution_count": 13,
   "id": "a71b1b65",
   "metadata": {},
   "outputs": [
    {
     "data": {
      "text/plain": [
       "<AxesSubplot:>"
      ]
     },
     "execution_count": 13,
     "metadata": {},
     "output_type": "execute_result"
    },
    {
     "data": {
      "image/png": "[encoded data removed]",
      "text/plain": [
       "<Figure size 432x288 with 1 Axes>"
      ]
     },
     "metadata": {
      "needs_background": "light"
     },
     "output_type": "display_data"
    }
   ],
   "source": [
    "df.plot()\n",
    "\n",
    "# There are 500 points between 0 and 50, and we can see that the pattern will be covered \n",
    "# if we select a value between 50 and 100."
   ]
  },
  {
   "cell_type": "code",
   "execution_count": 14,
   "id": "e80bf711",
   "metadata": {},
   "outputs": [],
   "source": [
    "length = 50\n",
    "batch_size = 1 # Standard batch size"
   ]
  },
  {
   "cell_type": "code",
   "execution_count": 15,
   "id": "8e38cb40",
   "metadata": {},
   "outputs": [],
   "source": [
    "# Timeseries...(where X is present, where Y is present)\n",
    "# In our case, X, y are both present together in training data itself\n",
    "\n",
    "generator = TimeseriesGenerator(\n",
    "                scaled_train, \n",
    "                scaled_train,\n",
    "                length=length,\n",
    "                batch_size=batch_size,\n",
    "            )"
   ]
  },
  {
   "cell_type": "code",
   "execution_count": 16,
   "id": "9c210444",
   "metadata": {},
   "outputs": [],
   "source": [
    "X, y = generator[0]"
   ]
  },
  {
   "cell_type": "code",
   "execution_count": 17,
   "id": "5bc09141",
   "metadata": {},
   "outputs": [
    {
     "data": {
      "text/plain": [
       "array([[0.00191281],\n",
       "       [0.00876887]])"
      ]
     },
     "execution_count": 17,
     "metadata": {},
     "output_type": "execute_result"
    }
   ],
   "source": [
    "X[0][48:] # Just look at the 48th and 49th value of the input sequence"
   ]
  },
  {
   "cell_type": "code",
   "execution_count": 18,
   "id": "d9c7e00c",
   "metadata": {},
   "outputs": [
    {
     "data": {
      "text/plain": [
       "array([[0.02053313]])"
      ]
     },
     "execution_count": 18,
     "metadata": {},
     "output_type": "execute_result"
    }
   ],
   "source": [
    "y # The 50th value is what's in output sequence"
   ]
  },
  {
   "cell_type": "code",
   "execution_count": 19,
   "id": "0299bfcf",
   "metadata": {},
   "outputs": [
    {
     "data": {
      "text/plain": [
       "array([[0.00191281],\n",
       "       [0.00876887],\n",
       "       [0.02053313]])"
      ]
     },
     "execution_count": 19,
     "metadata": {},
     "output_type": "execute_result"
    }
   ],
   "source": [
    "scaled_train[48: 51] # input([0], [1], ... [48], [49]) -> Output ([50])"
   ]
  },
  {
   "cell_type": "markdown",
   "id": "19a75b61",
   "metadata": {},
   "source": [
    "# Creating the Model"
   ]
  },
  {
   "cell_type": "code",
   "execution_count": 20,
   "id": "1c6e30e0",
   "metadata": {},
   "outputs": [],
   "source": [
    "from tensorflow.keras.models import Sequential\n",
    "from tensorflow.keras.layers import Dense, SimpleRNN, LSTM"
   ]
  },
  {
   "cell_type": "code",
   "execution_count": 21,
   "id": "4381e308",
   "metadata": {},
   "outputs": [],
   "source": [
    "n_features = 1 # How many features are we training off of?"
   ]
  },
  {
   "cell_type": "code",
   "execution_count": 22,
   "id": "3bb95b3a",
   "metadata": {},
   "outputs": [],
   "source": [
    "model = Sequential()\n",
    "\n",
    "model.add(SimpleRNN(50, input_shape=(length, n_features)))\n",
    "\n",
    "model.add(Dense(1))\n",
    "\n",
    "model.compile('adam', 'mse')"
   ]
  },
  {
   "cell_type": "code",
   "execution_count": 23,
   "id": "5b3b8538",
   "metadata": {},
   "outputs": [
    {
     "name": "stdout",
     "output_type": "stream",
     "text": [
      "Model: \"sequential\"\n",
      "_________________________________________________________________\n",
      "Layer (type)                 Output Shape              Param #   \n",
      "=================================================================\n",
      "simple_rnn (SimpleRNN)       (None, 50)                2600      \n",
      "_________________________________________________________________\n",
      "dense (Dense)                (None, 1)                 51        \n",
      "=================================================================\n",
      "Total params: 2,651\n",
      "Trainable params: 2,651\n",
      "Non-trainable params: 0\n",
      "_________________________________________________________________\n"
     ]
    }
   ],
   "source": [
    "model.summary()"
   ]
  },
  {
   "cell_type": "code",
   "execution_count": 24,
   "id": "a568a839",
   "metadata": {},
   "outputs": [
    {
     "name": "stderr",
     "output_type": "stream",
     "text": [
      "/usr/local/anaconda3/envs/neural-engine/lib/python3.7/site-packages/tensorflow/python/keras/engine/training.py:1940: UserWarning: `Model.fit_generator` is deprecated and will be removed in a future version. Please use `Model.fit`, which supports generators.\n",
      "  warnings.warn('`Model.fit_generator` is deprecated and '\n"
     ]
    },
    {
     "name": "stdout",
     "output_type": "stream",
     "text": [
      "Epoch 1/5\n",
      "401/401 [==============================] - 4s 7ms/step - loss: 0.0178\n",
      "Epoch 2/5\n",
      "401/401 [==============================] - 3s 7ms/step - loss: 5.8925e-06\n",
      "Epoch 3/5\n",
      "401/401 [==============================] - 3s 7ms/step - loss: 5.2009e-04\n",
      "Epoch 4/5\n",
      "401/401 [==============================] - 3s 7ms/step - loss: 3.8924e-05\n",
      "Epoch 5/5\n",
      "401/401 [==============================] - 4s 10ms/step - loss: 7.4029e-05\n"
     ]
    },
    {
     "data": {
      "text/plain": [
       "<tensorflow.python.keras.callbacks.History at 0x7fed96d76b10>"
      ]
     },
     "execution_count": 24,
     "metadata": {},
     "output_type": "execute_result"
    }
   ],
   "source": [
    "model.fit_generator(generator, epochs=5)"
   ]
  },
  {
   "cell_type": "markdown",
   "id": "e6ddd248",
   "metadata": {},
   "source": [
    "# Evaluating Model Performance"
   ]
  },
  {
   "cell_type": "code",
   "execution_count": 25,
   "id": "cbe815ad",
   "metadata": {},
   "outputs": [
    {
     "data": {
      "text/plain": [
       "<AxesSubplot:>"
      ]
     },
     "execution_count": 25,
     "metadata": {},
     "output_type": "execute_result"
    },
    {
     "data": {
      "image/png": "[encoded data removed]",
      "text/plain": [
       "<Figure size 432x288 with 1 Axes>"
      ]
     },
     "metadata": {
      "needs_background": "light"
     },
     "output_type": "display_data"
    }
   ],
   "source": [
    "metrics = pd.DataFrame(model.history.history)\n",
    "\n",
    "metrics.plot()"
   ]
  },
  {
   "cell_type": "code",
   "execution_count": 26,
   "id": "75add507",
   "metadata": {},
   "outputs": [],
   "source": [
    "test_predictions = []\n",
    "\n",
    "first_eval_batch = scaled_train[-length : ]\n",
    "current_batch = first_eval_batch.reshape(1, length, n_features) \n",
    "# Transforming data to adhere to the shape\n",
    "\n",
    "for i in range(len(scaled_test)):\n",
    "    \n",
    "    \n",
    "              \n",
    "    current_prediction = model.predict(current_batch)[0]\n",
    "    test_predictions.append(current_prediction)\n",
    "              \n",
    "              # Shift batch one step forward by adding current prediction to very end\n",
    "    current_batch = np.append(\n",
    "                        current_batch[: , 1: , :], # its 3 dimensional\n",
    "                        [[current_prediction]], \n",
    "                        axis=1\n",
    "                    )"
   ]
  },
  {
   "cell_type": "code",
   "execution_count": 27,
   "id": "5d6082e6",
   "metadata": {},
   "outputs": [
    {
     "data": {
      "text/plain": [
       "[array([0.97754], dtype=float32),\n",
       " array([0.9960149], dtype=float32),\n",
       " array([1.0085112], dtype=float32),\n",
       " array([1.0161244], dtype=float32)]"
      ]
     },
     "execution_count": 27,
     "metadata": {},
     "output_type": "execute_result"
    }
   ],
   "source": [
    "test_predictions[:][0:4]"
   ]
  },
  {
   "cell_type": "code",
   "execution_count": 28,
   "id": "96bb80d6",
   "metadata": {},
   "outputs": [
    {
     "data": {
      "text/plain": [
       "array([[0.95507414],\n",
       "       [0.99202359],\n",
       "       [1.01701598],\n",
       "       [1.03224222]])"
      ]
     },
     "execution_count": 28,
     "metadata": {},
     "output_type": "execute_result"
    }
   ],
   "source": [
    "true_predictions = scaler.inverse_transform(test_predictions)\n",
    "\n",
    "true_predictions[:4]"
   ]
  },
  {
   "cell_type": "code",
   "execution_count": 29,
   "id": "ead6e807",
   "metadata": {},
   "outputs": [
    {
     "name": "stderr",
     "output_type": "stream",
     "text": [
      "/usr/local/anaconda3/envs/neural-engine/lib/python3.7/site-packages/ipykernel_launcher.py:1: SettingWithCopyWarning: \n",
      "A value is trying to be set on a copy of a slice from a DataFrame.\n",
      "Try using .loc[row_indexer,col_indexer] = value instead\n",
      "\n",
      "See the caveats in the documentation: https://pandas.pydata.org/pandas-docs/stable/user_guide/indexing.html#returning-a-view-versus-a-copy\n",
      "  \"\"\"Entry point for launching an IPython kernel.\n"
     ]
    }
   ],
   "source": [
    "test['predictions'] = true_predictions"
   ]
  },
  {
   "cell_type": "code",
   "execution_count": 30,
   "id": "56e45e1a",
   "metadata": {},
   "outputs": [
    {
     "data": {
      "text/html": [
       "<div>\n",
       "<style scoped>\n",
       "    .dataframe tbody tr th:only-of-type {\n",
       "        vertical-align: middle;\n",
       "    }\n",
       "\n",
       "    .dataframe tbody tr th {\n",
       "        vertical-align: top;\n",
       "    }\n",
       "\n",
       "    .dataframe thead th {\n",
       "        text-align: right;\n",
       "    }\n",
       "</style>\n",
       "<table border=\"1\" class=\"dataframe\">\n",
       "  <thead>\n",
       "    <tr style=\"text-align: right;\">\n",
       "      <th></th>\n",
       "      <th>sin(x)</th>\n",
       "      <th>predictions</th>\n",
       "    </tr>\n",
       "  </thead>\n",
       "  <tbody>\n",
       "    <tr>\n",
       "      <th>45.1</th>\n",
       "      <td>0.899097</td>\n",
       "      <td>0.955074</td>\n",
       "    </tr>\n",
       "    <tr>\n",
       "      <th>45.2</th>\n",
       "      <td>0.938307</td>\n",
       "      <td>0.992024</td>\n",
       "    </tr>\n",
       "    <tr>\n",
       "      <th>45.3</th>\n",
       "      <td>0.968142</td>\n",
       "      <td>1.017016</td>\n",
       "    </tr>\n",
       "    <tr>\n",
       "      <th>45.4</th>\n",
       "      <td>0.988304</td>\n",
       "      <td>1.032242</td>\n",
       "    </tr>\n",
       "    <tr>\n",
       "      <th>45.5</th>\n",
       "      <td>0.998591</td>\n",
       "      <td>1.064170</td>\n",
       "    </tr>\n",
       "  </tbody>\n",
       "</table>\n",
       "</div>"
      ],
      "text/plain": [
       "        sin(x)  predictions\n",
       "45.1  0.899097     0.955074\n",
       "45.2  0.938307     0.992024\n",
       "45.3  0.968142     1.017016\n",
       "45.4  0.988304     1.032242\n",
       "45.5  0.998591     1.064170"
      ]
     },
     "execution_count": 30,
     "metadata": {},
     "output_type": "execute_result"
    }
   ],
   "source": [
    "test.head()"
   ]
  },
  {
   "cell_type": "code",
   "execution_count": 31,
   "id": "e9b58e0e",
   "metadata": {},
   "outputs": [
    {
     "data": {
      "text/plain": [
       "<AxesSubplot:>"
      ]
     },
     "execution_count": 31,
     "metadata": {},
     "output_type": "execute_result"
    },
    {
     "data": {
      "image/png": "[encoded data removed]",
      "text/plain": [
       "<Figure size 432x288 with 1 Axes>"
      ]
     },
     "metadata": {
      "needs_background": "light"
     },
     "output_type": "display_data"
    }
   ],
   "source": [
    "test.plot()"
   ]
  },
  {
   "cell_type": "markdown",
   "id": "f4bad81b",
   "metadata": {},
   "source": [
    "# Using LSTM Along with Callbacks"
   ]
  },
  {
   "cell_type": "code",
   "execution_count": 33,
   "id": "b3b99121",
   "metadata": {},
   "outputs": [],
   "source": [
    "from tensorflow.keras.callbacks import EarlyStopping\n",
    "\n",
    "early_stop = EarlyStopping(monitor='val_loss', patience=2)"
   ]
  },
  {
   "cell_type": "code",
   "execution_count": 34,
   "id": "c5e91349",
   "metadata": {},
   "outputs": [],
   "source": [
    "length = 49 # For validation data, there are only 50 entries (max index = 49), which is\n",
    "# why we are reducing length by one to not run into error\n",
    "\n",
    "generator = TimeseriesGenerator(\n",
    "                scaled_train, \n",
    "                scaled_train,\n",
    "                length=length,\n",
    "                batch_size=batch_size,\n",
    "            )"
   ]
  },
  {
   "cell_type": "code",
   "execution_count": 35,
   "id": "f8668bd4",
   "metadata": {},
   "outputs": [],
   "source": [
    "# Comparable to passing validation data in ANN and CNN\n",
    "\n",
    "validation_generator = TimeseriesGenerator(\n",
    "                            scaled_test, \n",
    "                            scaled_test, \n",
    "                            length=length,\n",
    "                            batch_size=batch_size,\n",
    "                        )"
   ]
  },
  {
   "cell_type": "code",
   "execution_count": 36,
   "id": "75499eea",
   "metadata": {},
   "outputs": [],
   "source": [
    "model = Sequential()\n",
    "\n",
    "model.add(LSTM(50, input_shape=(length, n_features)))\n",
    "\n",
    "model.add(Dense(1))\n",
    "\n",
    "model.compile('adam', 'mse')"
   ]
  },
  {
   "cell_type": "code",
   "execution_count": 37,
   "id": "ad007d8e",
   "metadata": {},
   "outputs": [
    {
     "name": "stderr",
     "output_type": "stream",
     "text": [
      "/usr/local/anaconda3/envs/neural-engine/lib/python3.7/site-packages/tensorflow/python/keras/engine/training.py:1940: UserWarning: `Model.fit_generator` is deprecated and will be removed in a future version. Please use `Model.fit`, which supports generators.\n",
      "  warnings.warn('`Model.fit_generator` is deprecated and '\n"
     ]
    },
    {
     "name": "stdout",
     "output_type": "stream",
     "text": [
      "Epoch 1/20\n",
      "402/402 [==============================] - 9s 16ms/step - loss: 0.0161 - val_loss: 1.0063e-04\n",
      "Epoch 2/20\n",
      "402/402 [==============================] - 8s 21ms/step - loss: 1.8105e-04 - val_loss: 2.3391e-04\n",
      "Epoch 3/20\n",
      "402/402 [==============================] - 7s 18ms/step - loss: 1.2308e-04 - val_loss: 3.8325e-04\n"
     ]
    },
    {
     "data": {
      "text/plain": [
       "<tensorflow.python.keras.callbacks.History at 0x7fed82d48390>"
      ]
     },
     "execution_count": 37,
     "metadata": {},
     "output_type": "execute_result"
    }
   ],
   "source": [
    "model.fit_generator(\n",
    "    generator, \n",
    "    epochs=20, \n",
    "    validation_data=validation_generator,\n",
    "    callbacks=[early_stop]\n",
    ")"
   ]
  },
  {
   "cell_type": "code",
   "execution_count": 39,
   "id": "8ed6a4ba",
   "metadata": {},
   "outputs": [],
   "source": [
    "test_predictions = []\n",
    "\n",
    "first_eval_batch = scaled_train[-length : ]\n",
    "current_batch = first_eval_batch.reshape(1, length, n_features) \n",
    "# Transforming data to adhere to the shape\n",
    "\n",
    "for i in range(len(scaled_test)):\n",
    "    \n",
    "    \n",
    "              \n",
    "    current_prediction = model.predict(current_batch)[0]\n",
    "    test_predictions.append(current_prediction)\n",
    "              \n",
    "              # Shift batch one step forward by adding current prediction to very end\n",
    "    current_batch = np.append(\n",
    "                        current_batch[: , 1: , :], # its 3 dimensional\n",
    "                        [[current_prediction]], \n",
    "                        axis=1\n",
    "                    )"
   ]
  },
  {
   "cell_type": "code",
   "execution_count": 41,
   "id": "9b0717cc",
   "metadata": {},
   "outputs": [
    {
     "name": "stderr",
     "output_type": "stream",
     "text": [
      "/usr/local/anaconda3/envs/neural-engine/lib/python3.7/site-packages/ipykernel_launcher.py:3: SettingWithCopyWarning: \n",
      "A value is trying to be set on a copy of a slice from a DataFrame.\n",
      "Try using .loc[row_indexer,col_indexer] = value instead\n",
      "\n",
      "See the caveats in the documentation: https://pandas.pydata.org/pandas-docs/stable/user_guide/indexing.html#returning-a-view-versus-a-copy\n",
      "  This is separate from the ipykernel package so we can avoid doing imports until\n"
     ]
    }
   ],
   "source": [
    "true_predictions = scaler.inverse_transform(test_predictions)\n",
    "\n",
    "test['LSTM predictions'] = true_predictions"
   ]
  },
  {
   "cell_type": "code",
   "execution_count": 42,
   "id": "b84e51e0",
   "metadata": {},
   "outputs": [
    {
     "data": {
      "text/html": [
       "<div>\n",
       "<style scoped>\n",
       "    .dataframe tbody tr th:only-of-type {\n",
       "        vertical-align: middle;\n",
       "    }\n",
       "\n",
       "    .dataframe tbody tr th {\n",
       "        vertical-align: top;\n",
       "    }\n",
       "\n",
       "    .dataframe thead th {\n",
       "        text-align: right;\n",
       "    }\n",
       "</style>\n",
       "<table border=\"1\" class=\"dataframe\">\n",
       "  <thead>\n",
       "    <tr style=\"text-align: right;\">\n",
       "      <th></th>\n",
       "      <th>sin(x)</th>\n",
       "      <th>predictions</th>\n",
       "      <th>LSTM predictions</th>\n",
       "    </tr>\n",
       "  </thead>\n",
       "  <tbody>\n",
       "    <tr>\n",
       "      <th>45.1</th>\n",
       "      <td>0.899097</td>\n",
       "      <td>0.955074</td>\n",
       "      <td>0.869833</td>\n",
       "    </tr>\n",
       "    <tr>\n",
       "      <th>45.2</th>\n",
       "      <td>0.938307</td>\n",
       "      <td>0.992024</td>\n",
       "      <td>0.902683</td>\n",
       "    </tr>\n",
       "    <tr>\n",
       "      <th>45.3</th>\n",
       "      <td>0.968142</td>\n",
       "      <td>1.017016</td>\n",
       "      <td>0.924659</td>\n",
       "    </tr>\n",
       "    <tr>\n",
       "      <th>45.4</th>\n",
       "      <td>0.988304</td>\n",
       "      <td>1.032242</td>\n",
       "      <td>0.935596</td>\n",
       "    </tr>\n",
       "    <tr>\n",
       "      <th>45.5</th>\n",
       "      <td>0.998591</td>\n",
       "      <td>1.064170</td>\n",
       "      <td>0.935708</td>\n",
       "    </tr>\n",
       "  </tbody>\n",
       "</table>\n",
       "</div>"
      ],
      "text/plain": [
       "        sin(x)  predictions  LSTM predictions\n",
       "45.1  0.899097     0.955074          0.869833\n",
       "45.2  0.938307     0.992024          0.902683\n",
       "45.3  0.968142     1.017016          0.924659\n",
       "45.4  0.988304     1.032242          0.935596\n",
       "45.5  0.998591     1.064170          0.935708"
      ]
     },
     "execution_count": 42,
     "metadata": {},
     "output_type": "execute_result"
    }
   ],
   "source": [
    "test.head()"
   ]
  },
  {
   "cell_type": "code",
   "execution_count": 44,
   "id": "146b38f3",
   "metadata": {},
   "outputs": [
    {
     "data": {
      "text/plain": [
       "<AxesSubplot:>"
      ]
     },
     "execution_count": 44,
     "metadata": {},
     "output_type": "execute_result"
    },
    {
     "data": {
      "text/plain": [
       "<Figure size 720x432 with 0 Axes>"
      ]
     },
     "metadata": {},
     "output_type": "display_data"
    },
    {
     "data": {
      "image/png": "[encoded data removed]",
      "text/plain": [
       "<Figure size 432x288 with 1 Axes>"
      ]
     },
     "metadata": {
      "needs_background": "light"
     },
     "output_type": "display_data"
    }
   ],
   "source": [
    "test.plot()"
   ]
  },
  {
   "cell_type": "markdown",
   "id": "6ea1779a",
   "metadata": {},
   "source": [
    "# Making Model Train on Entire Data and Make Predictions Into the Future"
   ]
  },
  {
   "cell_type": "code",
   "execution_count": 46,
   "id": "410ac3a1",
   "metadata": {},
   "outputs": [],
   "source": [
    "full_scaler = MinMaxScaler()\n",
    "\n",
    "scaled_full_data = full_scaler.fit_transform(df)"
   ]
  },
  {
   "cell_type": "code",
   "execution_count": 48,
   "id": "93eda61e",
   "metadata": {},
   "outputs": [],
   "source": [
    "length = 50 \n",
    "\n",
    "generator = TimeseriesGenerator(\n",
    "                scaled_full_data, \n",
    "                scaled_full_data,\n",
    "                length=length,\n",
    "                batch_size=batch_size,\n",
    "            )"
   ]
  },
  {
   "cell_type": "code",
   "execution_count": 49,
   "id": "7b3f0be7",
   "metadata": {},
   "outputs": [],
   "source": [
    "model = Sequential()\n",
    "\n",
    "model.add(LSTM(50, input_shape=(length, n_features)))\n",
    "\n",
    "model.add(Dense(1))\n",
    "\n",
    "model.compile('adam', 'mse')"
   ]
  },
  {
   "cell_type": "code",
   "execution_count": 50,
   "id": "4848ed88",
   "metadata": {},
   "outputs": [
    {
     "name": "stderr",
     "output_type": "stream",
     "text": [
      "/usr/local/anaconda3/envs/neural-engine/lib/python3.7/site-packages/tensorflow/python/keras/engine/training.py:1940: UserWarning: `Model.fit_generator` is deprecated and will be removed in a future version. Please use `Model.fit`, which supports generators.\n",
      "  warnings.warn('`Model.fit_generator` is deprecated and '\n"
     ]
    },
    {
     "name": "stdout",
     "output_type": "stream",
     "text": [
      "Epoch 1/5\n",
      "451/451 [==============================] - 10s 19ms/step - loss: 0.0091\n",
      "Epoch 2/5\n",
      "451/451 [==============================] - 9s 20ms/step - loss: 2.7645e-05\n",
      "Epoch 3/5\n",
      "451/451 [==============================] - 7s 15ms/step - loss: 1.5277e-04\n",
      "Epoch 4/5\n",
      "451/451 [==============================] - 7s 15ms/step - loss: 1.3613e-04\n",
      "Epoch 5/5\n",
      "451/451 [==============================] - 8s 18ms/step - loss: 1.2942e-04\n"
     ]
    },
    {
     "data": {
      "text/plain": [
       "<tensorflow.python.keras.callbacks.History at 0x7fed8a737d10>"
      ]
     },
     "execution_count": 50,
     "metadata": {},
     "output_type": "execute_result"
    }
   ],
   "source": [
    "model.fit_generator(\n",
    "    generator, \n",
    "    epochs=5,\n",
    ")"
   ]
  },
  {
   "cell_type": "code",
   "execution_count": 51,
   "id": "863f25e8",
   "metadata": {},
   "outputs": [],
   "source": [
    "forecast = []\n",
    "\n",
    "first_eval_batch = scaled_train[-length : ]\n",
    "current_batch = first_eval_batch.reshape(1, length, n_features)\n",
    "\n",
    "for i in range(25): # Decide the number of points you want to forecast into the future\n",
    "    \n",
    "    \n",
    "              \n",
    "    current_prediction = model.predict(current_batch)[0]\n",
    "    forecast.append(current_prediction)\n",
    "              \n",
    "    current_batch = np.append(\n",
    "                        current_batch[: , 1: , :],\n",
    "                        [[current_prediction]], \n",
    "                        axis=1\n",
    "                    )"
   ]
  },
  {
   "cell_type": "code",
   "execution_count": 52,
   "id": "4f2511a7",
   "metadata": {},
   "outputs": [
    {
     "data": {
      "text/html": [
       "<div>\n",
       "<style scoped>\n",
       "    .dataframe tbody tr th:only-of-type {\n",
       "        vertical-align: middle;\n",
       "    }\n",
       "\n",
       "    .dataframe tbody tr th {\n",
       "        vertical-align: top;\n",
       "    }\n",
       "\n",
       "    .dataframe thead th {\n",
       "        text-align: right;\n",
       "    }\n",
       "</style>\n",
       "<table border=\"1\" class=\"dataframe\">\n",
       "  <thead>\n",
       "    <tr style=\"text-align: right;\">\n",
       "      <th></th>\n",
       "      <th>sin(x)</th>\n",
       "    </tr>\n",
       "  </thead>\n",
       "  <tbody>\n",
       "    <tr>\n",
       "      <th>0.0</th>\n",
       "      <td>0.000000</td>\n",
       "    </tr>\n",
       "    <tr>\n",
       "      <th>0.1</th>\n",
       "      <td>0.099833</td>\n",
       "    </tr>\n",
       "    <tr>\n",
       "      <th>0.2</th>\n",
       "      <td>0.198669</td>\n",
       "    </tr>\n",
       "    <tr>\n",
       "      <th>0.3</th>\n",
       "      <td>0.295520</td>\n",
       "    </tr>\n",
       "    <tr>\n",
       "      <th>0.4</th>\n",
       "      <td>0.389418</td>\n",
       "    </tr>\n",
       "    <tr>\n",
       "      <th>...</th>\n",
       "      <td>...</td>\n",
       "    </tr>\n",
       "    <tr>\n",
       "      <th>49.6</th>\n",
       "      <td>-0.617439</td>\n",
       "    </tr>\n",
       "    <tr>\n",
       "      <th>49.7</th>\n",
       "      <td>-0.535823</td>\n",
       "    </tr>\n",
       "    <tr>\n",
       "      <th>49.8</th>\n",
       "      <td>-0.448854</td>\n",
       "    </tr>\n",
       "    <tr>\n",
       "      <th>49.9</th>\n",
       "      <td>-0.357400</td>\n",
       "    </tr>\n",
       "    <tr>\n",
       "      <th>50.0</th>\n",
       "      <td>-0.262375</td>\n",
       "    </tr>\n",
       "  </tbody>\n",
       "</table>\n",
       "<p>501 rows × 1 columns</p>\n",
       "</div>"
      ],
      "text/plain": [
       "        sin(x)\n",
       "0.0   0.000000\n",
       "0.1   0.099833\n",
       "0.2   0.198669\n",
       "0.3   0.295520\n",
       "0.4   0.389418\n",
       "...        ...\n",
       "49.6 -0.617439\n",
       "49.7 -0.535823\n",
       "49.8 -0.448854\n",
       "49.9 -0.357400\n",
       "50.0 -0.262375\n",
       "\n",
       "[501 rows x 1 columns]"
      ]
     },
     "execution_count": 52,
     "metadata": {},
     "output_type": "execute_result"
    }
   ],
   "source": []
  },
  {
   "cell_type": "code",
   "execution_count": 53,
   "id": "a2a5d4bf",
   "metadata": {},
   "outputs": [],
   "source": [
    "forecast = scaler.inverse_transform(forecast)"
   ]
  },
  {
   "cell_type": "code",
   "execution_count": 55,
   "id": "4f61bc8f",
   "metadata": {},
   "outputs": [
    {
     "data": {
      "text/plain": [
       "array([50.1, 50.2, 50.3, 50.4, 50.5, 50.6, 50.7, 50.8, 50.9, 51. , 51.1,\n",
       "       51.2, 51.3, 51.4, 51.5, 51.6, 51.7, 51.8, 51.9, 52. , 52.1, 52.2,\n",
       "       52.3, 52.4, 52.5])"
      ]
     },
     "execution_count": 55,
     "metadata": {},
     "output_type": "execute_result"
    }
   ],
   "source": [
    "# Creating indices for forecasted data\n",
    "# DF ends at 50, had step size of 0.1\n",
    "# Thus, next entry should start from 50.1, and to account for 25 points, it should go up\n",
    "# till [50.1 + (25 * 0.1)] i.e 52.6\n",
    "\n",
    "forecast_index = np.arange(50.1, 52.6, step=0.1)\n",
    "forecast_index"
   ]
  },
  {
   "cell_type": "code",
   "execution_count": 57,
   "id": "6d6eb52b",
   "metadata": {},
   "outputs": [
    {
     "data": {
      "text/plain": [
       "[<matplotlib.lines.Line2D at 0x7fed8dd2f410>]"
      ]
     },
     "execution_count": 57,
     "metadata": {},
     "output_type": "execute_result"
    },
    {
     "data": {
      "image/png": "[encoded data removed]",
      "text/plain": [
       "<Figure size 432x288 with 1 Axes>"
      ]
     },
     "metadata": {
      "needs_background": "light"
     },
     "output_type": "display_data"
    }
   ],
   "source": [
    "plt.plot(df.index, df[\"sin(x)\"])\n",
    "plt.plot(forecast_index, forecast)\n",
    "\n",
    "# To make it continuous, bind the forecast into the existing DF first"
   ]
  }
 ],
 "metadata": {
  "kernelspec": {
   "display_name": "Python 3",
   "language": "python",
   "name": "python3"
  },
  "language_info": {
   "codemirror_mode": {
    "name": "ipython",
    "version": 3
   },
   "file_extension": ".py",
   "mimetype": "text/x-python",
   "name": "python",
   "nbconvert_exporter": "python",
   "pygments_lexer": "ipython3",
   "version": "3.7.11"
  }
 },
 "nbformat": 4,
 "nbformat_minor": 5
}
