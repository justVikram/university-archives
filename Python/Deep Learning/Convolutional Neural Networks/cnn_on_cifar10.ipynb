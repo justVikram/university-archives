{
 "cells": [
  {
   "cell_type": "code",
   "execution_count": 1,
   "id": "7eb00d62",
   "metadata": {},
   "outputs": [],
   "source": [
    "import numpy as np\n",
    "import pandas as pd\n",
    "import matplotlib.pyplot as plt\n",
    "import seaborn as sbn"
   ]
  },
  {
   "cell_type": "code",
   "execution_count": 2,
   "id": "4ee10e33",
   "metadata": {},
   "outputs": [],
   "source": [
    "from tensorflow.keras.datasets import cifar10\n",
    "\n",
    "(X_train, y_train), (X_test, y_test) = cifar10.load_data()"
   ]
  },
  {
   "cell_type": "code",
   "execution_count": 3,
   "id": "736e5d55",
   "metadata": {},
   "outputs": [
    {
     "data": {
      "text/plain": [
       "(50000, 32, 32, 3)"
      ]
     },
     "execution_count": 3,
     "metadata": {},
     "output_type": "execute_result"
    }
   ],
   "source": [
    "X_train.shape # Since it already has 4 dimensions, we do not need to reshape"
   ]
  },
  {
   "cell_type": "markdown",
   "id": "28e90a35",
   "metadata": {},
   "source": [
    "# Data Preprocessing"
   ]
  },
  {
   "cell_type": "code",
   "execution_count": 4,
   "id": "73a18485",
   "metadata": {},
   "outputs": [],
   "source": [
    "from tensorflow.keras.utils import to_categorical\n",
    "\n",
    "# Perform one-hot encoding\n",
    "y_cat_train = to_categorical(y_train)\n",
    "y_cat_test = to_categorical(y_test)"
   ]
  },
  {
   "cell_type": "code",
   "execution_count": 5,
   "id": "af053a70",
   "metadata": {},
   "outputs": [],
   "source": [
    "# Scale images by dividing them by 255\n",
    "\n",
    "X_train = X_train / 255\n",
    "X_test = X_test / 255"
   ]
  },
  {
   "cell_type": "markdown",
   "id": "a33c26ee",
   "metadata": {},
   "source": [
    "# Building the Model"
   ]
  },
  {
   "cell_type": "code",
   "execution_count": 6,
   "id": "67542415",
   "metadata": {},
   "outputs": [],
   "source": [
    "from tensorflow.keras.models import Sequential\n",
    "from tensorflow.keras.layers import Dense, Conv2D, MaxPool2D, Flatten\n",
    "\n",
    "model = Sequential()\n",
    "\n",
    "model.add(Conv2D(\n",
    "    filters=32,\n",
    "    kernel_size=(4, 4),\n",
    "    input_shape=(32, 32, 3),\n",
    "    activation='relu',\n",
    "))\n",
    "\n",
    "model.add(MaxPool2D(2, 2))\n",
    "\n",
    "model.add(Conv2D(\n",
    "    filters=32,\n",
    "    kernel_size=(4, 4),\n",
    "    input_shape=(32, 32, 3),\n",
    "    activation='relu',\n",
    ")) # An extra convolutional layer as images are more complex\n",
    "\n",
    "model.add(MaxPool2D(2, 2))\n",
    "\n",
    "model.add(Flatten())\n",
    "\n",
    "model.add(Dense(256, activation='relu'))\n",
    "\n",
    "model.add(Dense(10, activation='softmax'))\n",
    "\n",
    "model.compile('adam', 'categorical_crossentropy', metrics=['accuracy'])"
   ]
  },
  {
   "cell_type": "code",
   "execution_count": 7,
   "id": "a183588a",
   "metadata": {},
   "outputs": [
    {
     "name": "stdout",
     "output_type": "stream",
     "text": [
      "Model: \"sequential\"\n",
      "_________________________________________________________________\n",
      "Layer (type)                 Output Shape              Param #   \n",
      "=================================================================\n",
      "conv2d (Conv2D)              (None, 29, 29, 32)        1568      \n",
      "_________________________________________________________________\n",
      "max_pooling2d (MaxPooling2D) (None, 14, 14, 32)        0         \n",
      "_________________________________________________________________\n",
      "conv2d_1 (Conv2D)            (None, 11, 11, 32)        16416     \n",
      "_________________________________________________________________\n",
      "max_pooling2d_1 (MaxPooling2 (None, 5, 5, 32)          0         \n",
      "_________________________________________________________________\n",
      "flatten (Flatten)            (None, 800)               0         \n",
      "_________________________________________________________________\n",
      "dense (Dense)                (None, 256)               205056    \n",
      "_________________________________________________________________\n",
      "dense_1 (Dense)              (None, 10)                2570      \n",
      "=================================================================\n",
      "Total params: 225,610\n",
      "Trainable params: 225,610\n",
      "Non-trainable params: 0\n",
      "_________________________________________________________________\n"
     ]
    }
   ],
   "source": [
    "model.summary()"
   ]
  },
  {
   "cell_type": "code",
   "execution_count": 8,
   "id": "fbabeed9",
   "metadata": {},
   "outputs": [],
   "source": [
    "from tensorflow.keras.callbacks import EarlyStopping\n",
    "\n",
    "early_stop = EarlyStopping(monitor='val_loss', patience=2) # Could be val_accuracy too"
   ]
  },
  {
   "cell_type": "code",
   "execution_count": 9,
   "id": "184ca755",
   "metadata": {},
   "outputs": [
    {
     "name": "stdout",
     "output_type": "stream",
     "text": [
      "Epoch 1/15\n",
      "1563/1563 [==============================] - 39s 24ms/step - loss: 1.5055 - accuracy: 0.4569 - val_loss: 1.2665 - val_accuracy: 0.5471\n",
      "Epoch 2/15\n",
      "1563/1563 [==============================] - 32s 20ms/step - loss: 1.1829 - accuracy: 0.5839 - val_loss: 1.1336 - val_accuracy: 0.5982\n",
      "Epoch 3/15\n",
      "1563/1563 [==============================] - 31s 20ms/step - loss: 1.0352 - accuracy: 0.6339 - val_loss: 1.0596 - val_accuracy: 0.6321\n",
      "Epoch 4/15\n",
      "1563/1563 [==============================] - 30s 19ms/step - loss: 0.9255 - accuracy: 0.6765 - val_loss: 1.0117 - val_accuracy: 0.6519\n",
      "Epoch 5/15\n",
      "1563/1563 [==============================] - 31s 20ms/step - loss: 0.8300 - accuracy: 0.7108 - val_loss: 0.9651 - val_accuracy: 0.6655\n",
      "Epoch 6/15\n",
      "1563/1563 [==============================] - 31s 20ms/step - loss: 0.7504 - accuracy: 0.7399 - val_loss: 1.0598 - val_accuracy: 0.6444\n",
      "Epoch 7/15\n",
      "1563/1563 [==============================] - 32s 20ms/step - loss: 0.6699 - accuracy: 0.7647 - val_loss: 1.0544 - val_accuracy: 0.6523\n"
     ]
    },
    {
     "data": {
      "text/plain": [
       "<tensorflow.python.keras.callbacks.History at 0x7f7f06618b50>"
      ]
     },
     "execution_count": 9,
     "metadata": {},
     "output_type": "execute_result"
    }
   ],
   "source": [
    "model.fit(\n",
    "    X_train, \n",
    "    y_cat_train, \n",
    "    epochs=15, \n",
    "    validation_data=(X_test, y_cat_test),\n",
    "    callbacks=[early_stop]\n",
    ")"
   ]
  },
  {
   "cell_type": "markdown",
   "id": "ba2c019f",
   "metadata": {},
   "source": [
    "# Evaluating Model"
   ]
  },
  {
   "cell_type": "code",
   "execution_count": 10,
   "id": "c3352923",
   "metadata": {},
   "outputs": [
    {
     "data": {
      "text/html": [
       "<div>\n",
       "<style scoped>\n",
       "    .dataframe tbody tr th:only-of-type {\n",
       "        vertical-align: middle;\n",
       "    }\n",
       "\n",
       "    .dataframe tbody tr th {\n",
       "        vertical-align: top;\n",
       "    }\n",
       "\n",
       "    .dataframe thead th {\n",
       "        text-align: right;\n",
       "    }\n",
       "</style>\n",
       "<table border=\"1\" class=\"dataframe\">\n",
       "  <thead>\n",
       "    <tr style=\"text-align: right;\">\n",
       "      <th></th>\n",
       "      <th>loss</th>\n",
       "      <th>accuracy</th>\n",
       "      <th>val_loss</th>\n",
       "      <th>val_accuracy</th>\n",
       "    </tr>\n",
       "  </thead>\n",
       "  <tbody>\n",
       "    <tr>\n",
       "      <th>0</th>\n",
       "      <td>1.505478</td>\n",
       "      <td>0.45694</td>\n",
       "      <td>1.266492</td>\n",
       "      <td>0.5471</td>\n",
       "    </tr>\n",
       "    <tr>\n",
       "      <th>1</th>\n",
       "      <td>1.182857</td>\n",
       "      <td>0.58390</td>\n",
       "      <td>1.133637</td>\n",
       "      <td>0.5982</td>\n",
       "    </tr>\n",
       "    <tr>\n",
       "      <th>2</th>\n",
       "      <td>1.035189</td>\n",
       "      <td>0.63390</td>\n",
       "      <td>1.059600</td>\n",
       "      <td>0.6321</td>\n",
       "    </tr>\n",
       "    <tr>\n",
       "      <th>3</th>\n",
       "      <td>0.925514</td>\n",
       "      <td>0.67648</td>\n",
       "      <td>1.011721</td>\n",
       "      <td>0.6519</td>\n",
       "    </tr>\n",
       "    <tr>\n",
       "      <th>4</th>\n",
       "      <td>0.830042</td>\n",
       "      <td>0.71078</td>\n",
       "      <td>0.965103</td>\n",
       "      <td>0.6655</td>\n",
       "    </tr>\n",
       "    <tr>\n",
       "      <th>5</th>\n",
       "      <td>0.750435</td>\n",
       "      <td>0.73988</td>\n",
       "      <td>1.059794</td>\n",
       "      <td>0.6444</td>\n",
       "    </tr>\n",
       "    <tr>\n",
       "      <th>6</th>\n",
       "      <td>0.669868</td>\n",
       "      <td>0.76468</td>\n",
       "      <td>1.054437</td>\n",
       "      <td>0.6523</td>\n",
       "    </tr>\n",
       "  </tbody>\n",
       "</table>\n",
       "</div>"
      ],
      "text/plain": [
       "       loss  accuracy  val_loss  val_accuracy\n",
       "0  1.505478   0.45694  1.266492        0.5471\n",
       "1  1.182857   0.58390  1.133637        0.5982\n",
       "2  1.035189   0.63390  1.059600        0.6321\n",
       "3  0.925514   0.67648  1.011721        0.6519\n",
       "4  0.830042   0.71078  0.965103        0.6655\n",
       "5  0.750435   0.73988  1.059794        0.6444\n",
       "6  0.669868   0.76468  1.054437        0.6523"
      ]
     },
     "execution_count": 10,
     "metadata": {},
     "output_type": "execute_result"
    }
   ],
   "source": [
    "metrics = pd.DataFrame(model.history.history)\n",
    "metrics"
   ]
  },
  {
   "cell_type": "code",
   "execution_count": 11,
   "id": "a5143250",
   "metadata": {},
   "outputs": [
    {
     "data": {
      "text/plain": [
       "<AxesSubplot:>"
      ]
     },
     "execution_count": 11,
     "metadata": {},
     "output_type": "execute_result"
    },
    {
     "data": {
      "image/png": "[encoded data removed]",
      "text/plain": [
       "<Figure size 432x288 with 1 Axes>"
      ]
     },
     "metadata": {
      "needs_background": "light"
     },
     "output_type": "display_data"
    }
   ],
   "source": [
    "metrics[['loss', 'val_loss']].plot()"
   ]
  },
  {
   "cell_type": "code",
   "execution_count": 12,
   "id": "6bddf03a",
   "metadata": {},
   "outputs": [
    {
     "data": {
      "text/plain": [
       "<AxesSubplot:>"
      ]
     },
     "execution_count": 12,
     "metadata": {},
     "output_type": "execute_result"
    },
    {
     "data": {
      "image/png": "[encoded data removed]",
      "text/plain": [
       "<Figure size 432x288 with 1 Axes>"
      ]
     },
     "metadata": {
      "needs_background": "light"
     },
     "output_type": "display_data"
    }
   ],
   "source": [
    "metrics[['accuracy', 'val_accuracy']].plot()"
   ]
  },
  {
   "cell_type": "code",
   "execution_count": 15,
   "id": "1fa64d51",
   "metadata": {},
   "outputs": [
    {
     "name": "stderr",
     "output_type": "stream",
     "text": [
      "/usr/local/anaconda3/envs/neural-engine/lib/python3.7/site-packages/tensorflow/python/keras/engine/sequential.py:455: UserWarning: `model.predict_classes()` is deprecated and will be removed after 2021-01-01. Please use instead:* `np.argmax(model.predict(x), axis=-1)`,   if your model does multi-class classification   (e.g. if it uses a `softmax` last-layer activation).* `(model.predict(x) > 0.5).astype(\"int32\")`,   if your model does binary classification   (e.g. if it uses a `sigmoid` last-layer activation).\n",
      "  warnings.warn('`model.predict_classes()` is deprecated and '\n"
     ]
    },
    {
     "name": "stdout",
     "output_type": "stream",
     "text": [
      "              precision    recall  f1-score   support\n",
      "\n",
      "           0       0.70      0.70      0.70      1000\n",
      "           1       0.68      0.88      0.76      1000\n",
      "           2       0.55      0.52      0.54      1000\n",
      "           3       0.59      0.28      0.37      1000\n",
      "           4       0.59      0.58      0.59      1000\n",
      "           5       0.60      0.53      0.56      1000\n",
      "           6       0.57      0.88      0.69      1000\n",
      "           7       0.71      0.74      0.73      1000\n",
      "           8       0.76      0.75      0.75      1000\n",
      "           9       0.80      0.66      0.72      1000\n",
      "\n",
      "    accuracy                           0.65     10000\n",
      "   macro avg       0.65      0.65      0.64     10000\n",
      "weighted avg       0.65      0.65      0.64     10000\n",
      "\n"
     ]
    }
   ],
   "source": [
    "from sklearn.metrics import classification_report, confusion_matrix\n",
    "\n",
    "predictions = model.predict_classes(X_test)\n",
    "\n",
    "print(classification_report(y_test, predictions))"
   ]
  },
  {
   "cell_type": "code",
   "execution_count": 14,
   "id": "5adf8ffe",
   "metadata": {},
   "outputs": [
    {
     "data": {
      "text/plain": [
       "array([[703,  70,  53,   7,  21,   3,  23,  12,  88,  20],\n",
       "       [ 15, 879,   6,   2,   6,   4,  20,   3,  24,  41],\n",
       "       [ 68,  20, 524,  20,  95,  61, 139,  37,  24,  12],\n",
       "       [ 24,  31,  89, 275, 101, 166, 217,  61,  19,  17],\n",
       "       [ 37,  10,  84,  27, 584,  32, 128,  79,  17,   2],\n",
       "       [ 10,  13,  91,  95,  75, 528,  89,  71,  16,  12],\n",
       "       [  4,  15,  31,  17,  23,  11, 879,   9,   7,   4],\n",
       "       [ 22,   7,  41,  16,  64,  53,  24, 744,   7,  22],\n",
       "       [ 86,  78,  18,   3,  11,   7,  12,   4, 752,  29],\n",
       "       [ 31, 176,  19,   8,   9,  13,  19,  28,  42, 655]])"
      ]
     },
     "execution_count": 14,
     "metadata": {},
     "output_type": "execute_result"
    }
   ],
   "source": [
    "confusion_matrix(y_test, predictions)"
   ]
  },
  {
   "cell_type": "markdown",
   "id": "568cdf93",
   "metadata": {},
   "source": [
    "# Making Model Predict Values on Unseen Data"
   ]
  },
  {
   "cell_type": "code",
   "execution_count": 16,
   "id": "6dcac045",
   "metadata": {},
   "outputs": [
    {
     "data": {
      "text/plain": [
       "<matplotlib.image.AxesImage at 0x7f7f7bee29d0>"
      ]
     },
     "execution_count": 16,
     "metadata": {},
     "output_type": "execute_result"
    },
    {
     "data": {
      "image/png": "[encoded data removed]",
      "text/plain": [
       "<Figure size 432x288 with 1 Axes>"
      ]
     },
     "metadata": {
      "needs_background": "light"
     },
     "output_type": "display_data"
    }
   ],
   "source": [
    "new_num = X_test[0]\n",
    "plt.imshow(new_num)"
   ]
  },
  {
   "cell_type": "code",
   "execution_count": 17,
   "id": "386271f8",
   "metadata": {},
   "outputs": [
    {
     "name": "stderr",
     "output_type": "stream",
     "text": [
      "/usr/local/anaconda3/envs/neural-engine/lib/python3.7/site-packages/tensorflow/python/keras/engine/sequential.py:455: UserWarning: `model.predict_classes()` is deprecated and will be removed after 2021-01-01. Please use instead:* `np.argmax(model.predict(x), axis=-1)`,   if your model does multi-class classification   (e.g. if it uses a `softmax` last-layer activation).* `(model.predict(x) > 0.5).astype(\"int32\")`,   if your model does binary classification   (e.g. if it uses a `sigmoid` last-layer activation).\n",
      "  warnings.warn('`model.predict_classes()` is deprecated and '\n"
     ]
    },
    {
     "data": {
      "text/plain": [
       "array([3])"
      ]
     },
     "execution_count": 17,
     "metadata": {},
     "output_type": "execute_result"
    }
   ],
   "source": [
    "model.predict_classes(new_num.reshape(1, 32, 32, 3)) # 3 refers to cat on documentation"
   ]
  }
 ],
 "metadata": {
  "kernelspec": {
   "display_name": "Python 3",
   "language": "python",
   "name": "python3"
  },
  "language_info": {
   "codemirror_mode": {
    "name": "ipython",
    "version": 3
   },
   "file_extension": ".py",
   "mimetype": "text/x-python",
   "name": "python",
   "nbconvert_exporter": "python",
   "pygments_lexer": "ipython3",
   "version": "3.7.11"
  }
 },
 "nbformat": 4,
 "nbformat_minor": 5
}
