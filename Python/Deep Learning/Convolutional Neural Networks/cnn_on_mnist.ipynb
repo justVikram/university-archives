{
 "cells": [
  {
   "cell_type": "markdown",
   "id": "c2cf05c1",
   "metadata": {},
   "source": [
    "# Convolution\n",
    "\n",
    "* In context of CNN, filters are referred to as convolution kernels.\n",
    "* The process of passing the filters over an image is known as convolution.\n",
    "\n",
    "# Convolutional Layers\n",
    "\n",
    "* There are issues with ANNs when using them for image processing, such as large amount of     parameters, and losing out 2D info by flattening out the image, and only being able to       work with similar images.\n",
    "\n",
    "* A CNN helps alleviate these issues.\n",
    "\n",
    "* A convolutional layer is created when we apply multiple image filters to the input images.\n",
    "\n",
    "* The layer is then trained to figure out the best filter weight values.\n",
    "\n",
    "* It helps to reduce parameters by focusing on local connectivity.\n",
    "\n",
    "    * Neurons are only connected to a subset of local neurons in the next layer.\n",
    "    \n",
    "    * These become the filter themselves.\n",
    "    \n",
    "# Pooling Layers\n",
    "\n",
    "* Used to reduce number of parameters.\n",
    "\n",
    "* They take in CNNs.\n",
    "\n",
    "* CNNs can have all types of architectures,\n",
    "    \n",
    "    * Input -> CNN -> CNN -> Pooling\n",
    "    * Input -> CNN -> Pooling -> CNN\n",
    "    \n",
    "**When working with images, always standardize the data.**\n",
    "\n",
    "**An array of image data is of 4 dimensions, (samples, x, y, channels).**"
   ]
  },
  {
   "cell_type": "markdown",
   "id": "70caafb9",
   "metadata": {},
   "source": [
    "# CNN on MNIST"
   ]
  },
  {
   "cell_type": "code",
   "execution_count": 1,
   "id": "3f675d0b",
   "metadata": {},
   "outputs": [],
   "source": [
    "import numpy as np\n",
    "import pandas as pd\n",
    "import matplotlib.pyplot as plt\n",
    "import seaborn as sbn"
   ]
  },
  {
   "cell_type": "code",
   "execution_count": 2,
   "id": "08cddd9c",
   "metadata": {},
   "outputs": [
    {
     "data": {
      "text/plain": [
       "array([5, 0, 4, ..., 5, 6, 8], dtype=uint8)"
      ]
     },
     "execution_count": 2,
     "metadata": {},
     "output_type": "execute_result"
    }
   ],
   "source": [
    "from tensorflow.keras.datasets import mnist\n",
    "\n",
    "(X_train, y_train), (X_test, y_test) = mnist.load_data()\n",
    "\n",
    "y_train"
   ]
  },
  {
   "cell_type": "markdown",
   "id": "d82229e0",
   "metadata": {},
   "source": [
    "# Data Preprocessing"
   ]
  },
  {
   "cell_type": "code",
   "execution_count": 3,
   "id": "a30dbc9e",
   "metadata": {},
   "outputs": [
    {
     "data": {
      "text/plain": [
       "array([[0., 0., 0., ..., 0., 0., 0.],\n",
       "       [1., 0., 0., ..., 0., 0., 0.],\n",
       "       [0., 0., 0., ..., 0., 0., 0.],\n",
       "       ...,\n",
       "       [0., 0., 0., ..., 0., 0., 0.],\n",
       "       [0., 0., 0., ..., 0., 0., 0.],\n",
       "       [0., 0., 0., ..., 0., 1., 0.]], dtype=float32)"
      ]
     },
     "execution_count": 3,
     "metadata": {},
     "output_type": "execute_result"
    }
   ],
   "source": [
    "from tensorflow.keras.utils import to_categorical\n",
    "\n",
    "# Perform one-hot encoding\n",
    "y_cat_train = to_categorical(y_train)\n",
    "y_cat_train"
   ]
  },
  {
   "cell_type": "code",
   "execution_count": 4,
   "id": "985a5d88",
   "metadata": {},
   "outputs": [],
   "source": [
    "y_cat_test = to_categorical(y_test)"
   ]
  },
  {
   "cell_type": "code",
   "execution_count": 5,
   "id": "6534a7e6",
   "metadata": {},
   "outputs": [],
   "source": [
    "# Scale images by dividing them by 255\n",
    "\n",
    "X_train = X_train / 255\n",
    "X_test = X_test / 255"
   ]
  },
  {
   "cell_type": "code",
   "execution_count": 6,
   "id": "b286d00f",
   "metadata": {},
   "outputs": [],
   "source": [
    "# Batch size, width, height, color channels\n",
    "\n",
    "X_train = X_train.reshape(60000, 28, 28, 1)\n",
    "X_test = X_test.reshape(10000, 28, 28, 1)"
   ]
  },
  {
   "cell_type": "markdown",
   "id": "44b52fa5",
   "metadata": {},
   "source": [
    "# Building a model\n",
    "\n",
    "* Things you need to tweak based on data:\n",
    "\n",
    "    * input_shape\n",
    "    * presence of flatten() layer\n",
    "    * output layer parameters  \n",
    "\n",
    "    \n",
    "* Things you can experiment with:\n",
    "    \n",
    "    * adding convolutional and pooling layers\n",
    "    * filters, kernel_size, activation\n",
    "    \n",
    "**Try to have at max 2 dense layers after flattening, not more.**"
   ]
  },
  {
   "cell_type": "code",
   "execution_count": 11,
   "id": "5daf8896",
   "metadata": {},
   "outputs": [],
   "source": [
    "from tensorflow.keras.models import Sequential\n",
    "from tensorflow.keras.layers import Dense, Conv2D, MaxPool2D, Flatten\n",
    "\n",
    "model = Sequential()\n",
    "\n",
    "model.add(Conv2D(\n",
    "    filters=32, # Any power of 2, increase with increasing complexity in photos\n",
    "    kernel_size=(4, 4), # Decide based on pixel dimensions\n",
    "    input_shape=(28, 28, 1),\n",
    "    activation='relu',\n",
    "))\n",
    "model.add(MaxPool2D(2, 2)) # (2,2) is default\n",
    "\n",
    "model.add(Flatten()) # Converts 28x28 into 1D array of 784, as dense layer needs 1D data\n",
    "\n",
    "model.add(Dense(128, activation='relu'))\n",
    "\n",
    "# Output layer\n",
    "model.add(Dense(10, activation='softmax'))\n",
    "\n",
    "model.compile('adam', 'categorical_crossentropy', metrics=['accuracy'])"
   ]
  },
  {
   "cell_type": "code",
   "execution_count": 12,
   "id": "77578b67",
   "metadata": {},
   "outputs": [],
   "source": [
    "from tensorflow.keras.callbacks import EarlyStopping\n",
    "\n",
    "early_stop = EarlyStopping(monitor='val_loss', patience=1) # Could be val_accuracy too"
   ]
  },
  {
   "cell_type": "code",
   "execution_count": 13,
   "id": "cfe0155f",
   "metadata": {},
   "outputs": [
    {
     "name": "stdout",
     "output_type": "stream",
     "text": [
      "Epoch 1/10\n",
      "1875/1875 [==============================] - 17s 9ms/step - loss: 0.1411 - accuracy: 0.9583 - val_loss: 0.0586 - val_accuracy: 0.9809\n",
      "Epoch 2/10\n",
      "1875/1875 [==============================] - 16s 8ms/step - loss: 0.0471 - accuracy: 0.9855 - val_loss: 0.0380 - val_accuracy: 0.9865\n",
      "Epoch 3/10\n",
      "1875/1875 [==============================] - 19s 10ms/step - loss: 0.0312 - accuracy: 0.9901 - val_loss: 0.0386 - val_accuracy: 0.9875\n"
     ]
    },
    {
     "data": {
      "text/plain": [
       "<tensorflow.python.keras.callbacks.History at 0x7fad7a4e2690>"
      ]
     },
     "execution_count": 13,
     "metadata": {},
     "output_type": "execute_result"
    }
   ],
   "source": [
    "model.fit(\n",
    "    X_train, \n",
    "    y_cat_train, \n",
    "    epochs=10, \n",
    "    validation_data=(X_test, y_cat_test),\n",
    "    callbacks=[early_stop]\n",
    ")"
   ]
  },
  {
   "cell_type": "markdown",
   "id": "6843a362",
   "metadata": {},
   "source": [
    "# Evaluating the Model"
   ]
  },
  {
   "cell_type": "code",
   "execution_count": 15,
   "id": "4d23fd61",
   "metadata": {},
   "outputs": [
    {
     "data": {
      "text/html": [
       "<div>\n",
       "<style scoped>\n",
       "    .dataframe tbody tr th:only-of-type {\n",
       "        vertical-align: middle;\n",
       "    }\n",
       "\n",
       "    .dataframe tbody tr th {\n",
       "        vertical-align: top;\n",
       "    }\n",
       "\n",
       "    .dataframe thead th {\n",
       "        text-align: right;\n",
       "    }\n",
       "</style>\n",
       "<table border=\"1\" class=\"dataframe\">\n",
       "  <thead>\n",
       "    <tr style=\"text-align: right;\">\n",
       "      <th></th>\n",
       "      <th>loss</th>\n",
       "      <th>accuracy</th>\n",
       "      <th>val_loss</th>\n",
       "      <th>val_accuracy</th>\n",
       "    </tr>\n",
       "  </thead>\n",
       "  <tbody>\n",
       "    <tr>\n",
       "      <th>0</th>\n",
       "      <td>0.141119</td>\n",
       "      <td>0.958333</td>\n",
       "      <td>0.058618</td>\n",
       "      <td>0.9809</td>\n",
       "    </tr>\n",
       "    <tr>\n",
       "      <th>1</th>\n",
       "      <td>0.047140</td>\n",
       "      <td>0.985550</td>\n",
       "      <td>0.037974</td>\n",
       "      <td>0.9865</td>\n",
       "    </tr>\n",
       "    <tr>\n",
       "      <th>2</th>\n",
       "      <td>0.031209</td>\n",
       "      <td>0.990150</td>\n",
       "      <td>0.038622</td>\n",
       "      <td>0.9875</td>\n",
       "    </tr>\n",
       "  </tbody>\n",
       "</table>\n",
       "</div>"
      ],
      "text/plain": [
       "       loss  accuracy  val_loss  val_accuracy\n",
       "0  0.141119  0.958333  0.058618        0.9809\n",
       "1  0.047140  0.985550  0.037974        0.9865\n",
       "2  0.031209  0.990150  0.038622        0.9875"
      ]
     },
     "execution_count": 15,
     "metadata": {},
     "output_type": "execute_result"
    }
   ],
   "source": [
    "metrics = pd.DataFrame(model.history.history)\n",
    "metrics"
   ]
  },
  {
   "cell_type": "code",
   "execution_count": 16,
   "id": "442be829",
   "metadata": {},
   "outputs": [
    {
     "data": {
      "text/plain": [
       "<AxesSubplot:>"
      ]
     },
     "execution_count": 16,
     "metadata": {},
     "output_type": "execute_result"
    },
    {
     "data": {
      "image/png": "[encoded data removed]",
      "text/plain": [
       "<Figure size 432x288 with 1 Axes>"
      ]
     },
     "metadata": {
      "needs_background": "light"
     },
     "output_type": "display_data"
    }
   ],
   "source": [
    "metrics[['loss', 'val_loss']].plot()"
   ]
  },
  {
   "cell_type": "code",
   "execution_count": 17,
   "id": "8d530e31",
   "metadata": {},
   "outputs": [
    {
     "data": {
      "text/plain": [
       "<AxesSubplot:>"
      ]
     },
     "execution_count": 17,
     "metadata": {},
     "output_type": "execute_result"
    },
    {
     "data": {
      "image/png": "[encoded data removed]",
      "text/plain": [
       "<Figure size 432x288 with 1 Axes>"
      ]
     },
     "metadata": {
      "needs_background": "light"
     },
     "output_type": "display_data"
    }
   ],
   "source": [
    "metrics[['accuracy', 'val_accuracy']].plot()"
   ]
  },
  {
   "cell_type": "code",
   "execution_count": 18,
   "id": "836b368b",
   "metadata": {},
   "outputs": [],
   "source": [
    "from sklearn.metrics import classification_report, confusion_matrix"
   ]
  },
  {
   "cell_type": "code",
   "execution_count": 46,
   "id": "15406423",
   "metadata": {},
   "outputs": [
    {
     "name": "stderr",
     "output_type": "stream",
     "text": [
      "/usr/local/anaconda3/envs/neural-engine/lib/python3.7/site-packages/tensorflow/python/keras/engine/sequential.py:455: UserWarning: `model.predict_classes()` is deprecated and will be removed after 2021-01-01. Please use instead:* `np.argmax(model.predict(x), axis=-1)`,   if your model does multi-class classification   (e.g. if it uses a `softmax` last-layer activation).* `(model.predict(x) > 0.5).astype(\"int32\")`,   if your model does binary classification   (e.g. if it uses a `sigmoid` last-layer activation).\n",
      "  warnings.warn('`model.predict_classes()` is deprecated and '\n"
     ]
    }
   ],
   "source": [
    "predictions = model.predict_classes(X_test)\n",
    "\n",
    "# predictions = (model.predict(X_test) > 0.5).astype(\"int32\") \n",
    "# When using the latter, check dim of predictions and pass y values accordingly"
   ]
  },
  {
   "cell_type": "code",
   "execution_count": 47,
   "id": "5ea87f31",
   "metadata": {},
   "outputs": [
    {
     "name": "stdout",
     "output_type": "stream",
     "text": [
      "              precision    recall  f1-score   support\n",
      "\n",
      "           0       0.99      0.99      0.99       980\n",
      "           1       0.99      1.00      0.99      1135\n",
      "           2       0.99      0.99      0.99      1032\n",
      "           3       0.98      1.00      0.99      1010\n",
      "           4       1.00      0.97      0.98       982\n",
      "           5       0.99      0.99      0.99       892\n",
      "           6       0.98      0.99      0.98       958\n",
      "           7       0.99      0.99      0.99      1028\n",
      "           8       0.99      0.98      0.98       974\n",
      "           9       0.98      0.98      0.98      1009\n",
      "\n",
      "    accuracy                           0.99     10000\n",
      "   macro avg       0.99      0.99      0.99     10000\n",
      "weighted avg       0.99      0.99      0.99     10000\n",
      "\n"
     ]
    }
   ],
   "source": [
    "print(classification_report(y_test, predictions, zero_division=0))"
   ]
  },
  {
   "cell_type": "code",
   "execution_count": 48,
   "id": "725aeb17",
   "metadata": {},
   "outputs": [
    {
     "data": {
      "text/plain": [
       "array([[ 974,    0,    1,    1,    0,    1,    2,    0,    1,    0],\n",
       "       [   0, 1131,    0,    0,    0,    1,    2,    0,    1,    0],\n",
       "       [   1,    1, 1019,    1,    0,    0,    3,    4,    3,    0],\n",
       "       [   0,    0,    0, 1008,    0,    1,    0,    0,    1,    0],\n",
       "       [   1,    2,    0,    0,  952,    0,    8,    2,    2,   15],\n",
       "       [   1,    0,    0,    5,    0,  882,    3,    0,    1,    0],\n",
       "       [   5,    2,    0,    0,    1,    2,  947,    0,    1,    0],\n",
       "       [   0,    2,    5,    5,    0,    1,    0, 1013,    1,    1],\n",
       "       [   4,    1,    2,    2,    0,    0,    0,    3,  957,    5],\n",
       "       [   1,    1,    0,    2,    1,    4,    1,    4,    3,  992]])"
      ]
     },
     "execution_count": 48,
     "metadata": {},
     "output_type": "execute_result"
    }
   ],
   "source": [
    "confusion_matrix(y_test, predictions)"
   ]
  },
  {
   "cell_type": "markdown",
   "id": "13c05397",
   "metadata": {},
   "source": [
    "# Making model predict values\n",
    "\n",
    "* When passing a new image to the model, reshape it to (num_of_images, width, height, channels)"
   ]
  },
  {
   "cell_type": "code",
   "execution_count": 49,
   "id": "4e92bc12",
   "metadata": {},
   "outputs": [
    {
     "data": {
      "text/plain": [
       "<matplotlib.image.AxesImage at 0x7fad7f8ace10>"
      ]
     },
     "execution_count": 49,
     "metadata": {},
     "output_type": "execute_result"
    },
    {
     "data": {
      "image/png": "[encoded data removed]",
      "text/plain": [
       "<Figure size 432x288 with 1 Axes>"
      ]
     },
     "metadata": {
      "needs_background": "light"
     },
     "output_type": "display_data"
    }
   ],
   "source": [
    "new_num = X_test[0]\n",
    "plt.imshow(new_num)"
   ]
  },
  {
   "cell_type": "code",
   "execution_count": 51,
   "id": "d41bcca1",
   "metadata": {},
   "outputs": [
    {
     "data": {
      "text/plain": [
       "array([7])"
      ]
     },
     "execution_count": 51,
     "metadata": {},
     "output_type": "execute_result"
    }
   ],
   "source": [
    "\n",
    "model.predict_classes(new_num.reshape(1, 28, 28, 1))"
   ]
  }
 ],
 "metadata": {
  "kernelspec": {
   "display_name": "Python 3",
   "language": "python",
   "name": "python3"
  },
  "language_info": {
   "codemirror_mode": {
    "name": "ipython",
    "version": 3
   },
   "file_extension": ".py",
   "mimetype": "text/x-python",
   "name": "python",
   "nbconvert_exporter": "python",
   "pygments_lexer": "ipython3",
   "version": "3.7.11"
  }
 },
 "nbformat": 4,
 "nbformat_minor": 5
}
