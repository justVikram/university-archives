{
 "cells": [
  {
   "cell_type": "markdown",
   "id": "a42535d4",
   "metadata": {},
   "source": [
    "# Points to Remember\n",
    "\n",
    "* When there is non-mutually exclusive classification, use sigmoid function for output         layer.\n",
    "\n",
    "* When there is mutually exclusive classification, use softmax function as it assigns         probabilities to each class, that when summed together, yield 1.\n",
    "\n",
    "* For classification problems, we use cross entropy loss function.\n",
    "\n",
    "## How it works inside a neural network\n",
    "\n",
    "* Using input **x**,  \n",
    "    * z = wx + b\n",
    "    * a = sigmoid(z)\n",
    " \n",
    "* Basically, feed input to first layer, and calculate z value. Pass this z value into sigmoid function to get a. This **a** value is what becomes the input to the next layer of neurons."
   ]
  },
  {
   "cell_type": "code",
   "execution_count": 73,
   "id": "468b2a69",
   "metadata": {},
   "outputs": [],
   "source": [
    "import numpy as np\n",
    "import pandas as pd\n",
    "import matplotlib.pyplot as plt\n",
    "import seaborn as sbn"
   ]
  },
  {
   "cell_type": "code",
   "execution_count": 74,
   "id": "a52c0979",
   "metadata": {},
   "outputs": [],
   "source": [
    "df = pd.read_csv('~/Documents/Deep Learning Masterclass/DATA/fake_reg.csv')\n",
    "\n",
    "# Goal is to predict price for a given values of features"
   ]
  },
  {
   "cell_type": "code",
   "execution_count": 75,
   "id": "b7e05579",
   "metadata": {},
   "outputs": [
    {
     "data": {
      "text/html": [
       "<div>\n",
       "<style scoped>\n",
       "    .dataframe tbody tr th:only-of-type {\n",
       "        vertical-align: middle;\n",
       "    }\n",
       "\n",
       "    .dataframe tbody tr th {\n",
       "        vertical-align: top;\n",
       "    }\n",
       "\n",
       "    .dataframe thead th {\n",
       "        text-align: right;\n",
       "    }\n",
       "</style>\n",
       "<table border=\"1\" class=\"dataframe\">\n",
       "  <thead>\n",
       "    <tr style=\"text-align: right;\">\n",
       "      <th></th>\n",
       "      <th>price</th>\n",
       "      <th>feature1</th>\n",
       "      <th>feature2</th>\n",
       "    </tr>\n",
       "  </thead>\n",
       "  <tbody>\n",
       "    <tr>\n",
       "      <th>0</th>\n",
       "      <td>461.527929</td>\n",
       "      <td>999.787558</td>\n",
       "      <td>999.766096</td>\n",
       "    </tr>\n",
       "    <tr>\n",
       "      <th>1</th>\n",
       "      <td>548.130011</td>\n",
       "      <td>998.861615</td>\n",
       "      <td>1001.042403</td>\n",
       "    </tr>\n",
       "    <tr>\n",
       "      <th>2</th>\n",
       "      <td>410.297162</td>\n",
       "      <td>1000.070267</td>\n",
       "      <td>998.844015</td>\n",
       "    </tr>\n",
       "    <tr>\n",
       "      <th>3</th>\n",
       "      <td>540.382220</td>\n",
       "      <td>999.952251</td>\n",
       "      <td>1000.440940</td>\n",
       "    </tr>\n",
       "    <tr>\n",
       "      <th>4</th>\n",
       "      <td>546.024553</td>\n",
       "      <td>1000.446011</td>\n",
       "      <td>1000.338531</td>\n",
       "    </tr>\n",
       "  </tbody>\n",
       "</table>\n",
       "</div>"
      ],
      "text/plain": [
       "        price     feature1     feature2\n",
       "0  461.527929   999.787558   999.766096\n",
       "1  548.130011   998.861615  1001.042403\n",
       "2  410.297162  1000.070267   998.844015\n",
       "3  540.382220   999.952251  1000.440940\n",
       "4  546.024553  1000.446011  1000.338531"
      ]
     },
     "execution_count": 75,
     "metadata": {},
     "output_type": "execute_result"
    }
   ],
   "source": [
    "df.head()"
   ]
  },
  {
   "cell_type": "code",
   "execution_count": 98,
   "id": "52cfd529",
   "metadata": {},
   "outputs": [],
   "source": [
    "from sklearn.model_selection import train_test_split\n",
    "\n",
    "X = df.drop('price', axis=1)\n",
    "y = df['price']\n",
    "X_train, X_test, y_train, y_test = train_test_split(X, y, test_size=0.3, random_state=42)"
   ]
  },
  {
   "cell_type": "code",
   "execution_count": 99,
   "id": "dd57f85a",
   "metadata": {},
   "outputs": [],
   "source": [
    "from sklearn.preprocessing import MinMaxScaler\n",
    "\n",
    "scaler = MinMaxScaler()\n",
    "X_train = scaler.fit_transform(X_train)\n",
    "X_test = scaler.transform(X_test)"
   ]
  },
  {
   "cell_type": "markdown",
   "id": "aa479665",
   "metadata": {},
   "source": [
    "# Building a Model\n",
    "\n",
    "* Dense: Every neuron in layer L is connected to every other neuron in layer L+1\n",
    "* Number of neurons in last layer = number of possibilities of output.\n",
    "\n",
    "## Remember\n",
    "\n",
    "The loss values are to be passed to compile() method.\n",
    "\n",
    "* Multi-class classification: loss = 'catagorical_crossentropy'\n",
    "* Binary classification: loss = 'binary_crossentropy'\n",
    "* Regression: loss = 'mse'"
   ]
  },
  {
   "cell_type": "code",
   "execution_count": 100,
   "id": "e945efdb",
   "metadata": {},
   "outputs": [],
   "source": [
    "from tensorflow.keras.models import Sequential\n",
    "from tensorflow.keras.layers import Dense\n",
    "\n",
    "model = Sequential([\n",
    "    Dense(4, 'relu'), # 4: Number of neurons we want\n",
    "    Dense(2, 'relu'),\n",
    "    Dense(1)\n",
    "])\n",
    "\n",
    "# OR\n",
    "\n",
    "model = Sequential()\n",
    "\n",
    "model.add(Dense(4, 'relu'))\n",
    "model.add(Dense(4, 'relu'))\n",
    "model.add(Dense(4, 'relu'))\n",
    "model.add(Dense(1)) # Only one possibility, the price\n",
    "\n",
    "# Configures model for training\n",
    "model.compile(optimizer='adam', loss='mse')"
   ]
  },
  {
   "cell_type": "code",
   "execution_count": 104,
   "id": "82246c63",
   "metadata": {},
   "outputs": [
    {
     "data": {
      "text/plain": [
       "<tensorflow.python.keras.callbacks.History at 0x7fbf342ce910>"
      ]
     },
     "execution_count": 104,
     "metadata": {},
     "output_type": "execute_result"
    }
   ],
   "source": [
    "model.fit(X_train, y_train, epochs=250, verbose=0)"
   ]
  },
  {
   "cell_type": "code",
   "execution_count": 105,
   "id": "b2af5fb4",
   "metadata": {},
   "outputs": [
    {
     "data": {
      "text/plain": [
       "<AxesSubplot:>"
      ]
     },
     "execution_count": 105,
     "metadata": {},
     "output_type": "execute_result"
    },
    {
     "data": {
      "image/png": "[encoded data removed]",
      "text/plain": [
       "<Figure size 432x288 with 1 Axes>"
      ]
     },
     "metadata": {
      "needs_background": "light"
     },
     "output_type": "display_data"
    }
   ],
   "source": [
    "loss_df = pd.DataFrame(model.history.history)\n",
    "loss_df.plot()"
   ]
  },
  {
   "cell_type": "markdown",
   "id": "619f3752",
   "metadata": {},
   "source": [
    "# Evaluating Model's Performance"
   ]
  },
  {
   "cell_type": "code",
   "execution_count": 106,
   "id": "d6288bdd",
   "metadata": {},
   "outputs": [
    {
     "data": {
      "text/plain": [
       "25.111963272094727"
      ]
     },
     "execution_count": 106,
     "metadata": {},
     "output_type": "execute_result"
    }
   ],
   "source": [
    "model.evaluate(X_test, y_test, verbose=0)\n",
    "# Returns back the model's loss in accordance with same metric loss as you specified in compile()"
   ]
  },
  {
   "cell_type": "code",
   "execution_count": 107,
   "id": "acaba127",
   "metadata": {},
   "outputs": [],
   "source": [
    "predictions = model.predict(X_test)\n",
    "predictions = pd.Series(predictions.reshape(300, ))"
   ]
  },
  {
   "cell_type": "code",
   "execution_count": 126,
   "id": "839a21ab",
   "metadata": {},
   "outputs": [],
   "source": [
    "predictions_df = pd.DataFrame(data=y_test.values)\n",
    "predictions_df = pd.concat([predictions_df, predictions], axis=1)\n",
    "predictions_df.columns = ['Actual Values', 'Predictions']"
   ]
  },
  {
   "cell_type": "code",
   "execution_count": 127,
   "id": "24d76b9a",
   "metadata": {},
   "outputs": [
    {
     "data": {
      "text/html": [
       "<div>\n",
       "<style scoped>\n",
       "    .dataframe tbody tr th:only-of-type {\n",
       "        vertical-align: middle;\n",
       "    }\n",
       "\n",
       "    .dataframe tbody tr th {\n",
       "        vertical-align: top;\n",
       "    }\n",
       "\n",
       "    .dataframe thead th {\n",
       "        text-align: right;\n",
       "    }\n",
       "</style>\n",
       "<table border=\"1\" class=\"dataframe\">\n",
       "  <thead>\n",
       "    <tr style=\"text-align: right;\">\n",
       "      <th></th>\n",
       "      <th>Actual Values</th>\n",
       "      <th>Predictions</th>\n",
       "    </tr>\n",
       "  </thead>\n",
       "  <tbody>\n",
       "    <tr>\n",
       "      <th>0</th>\n",
       "      <td>402.296319</td>\n",
       "      <td>405.472443</td>\n",
       "    </tr>\n",
       "    <tr>\n",
       "      <th>1</th>\n",
       "      <td>624.156198</td>\n",
       "      <td>623.952881</td>\n",
       "    </tr>\n",
       "    <tr>\n",
       "      <th>2</th>\n",
       "      <td>582.455066</td>\n",
       "      <td>592.515137</td>\n",
       "    </tr>\n",
       "    <tr>\n",
       "      <th>3</th>\n",
       "      <td>578.588606</td>\n",
       "      <td>572.577881</td>\n",
       "    </tr>\n",
       "    <tr>\n",
       "      <th>4</th>\n",
       "      <td>371.224104</td>\n",
       "      <td>366.744202</td>\n",
       "    </tr>\n",
       "    <tr>\n",
       "      <th>...</th>\n",
       "      <td>...</td>\n",
       "      <td>...</td>\n",
       "    </tr>\n",
       "    <tr>\n",
       "      <th>295</th>\n",
       "      <td>525.704657</td>\n",
       "      <td>529.352051</td>\n",
       "    </tr>\n",
       "    <tr>\n",
       "      <th>296</th>\n",
       "      <td>502.909473</td>\n",
       "      <td>515.607178</td>\n",
       "    </tr>\n",
       "    <tr>\n",
       "      <th>297</th>\n",
       "      <td>612.727910</td>\n",
       "      <td>610.051880</td>\n",
       "    </tr>\n",
       "    <tr>\n",
       "      <th>298</th>\n",
       "      <td>417.569725</td>\n",
       "      <td>417.156799</td>\n",
       "    </tr>\n",
       "    <tr>\n",
       "      <th>299</th>\n",
       "      <td>410.538250</td>\n",
       "      <td>411.059021</td>\n",
       "    </tr>\n",
       "  </tbody>\n",
       "</table>\n",
       "<p>300 rows × 2 columns</p>\n",
       "</div>"
      ],
      "text/plain": [
       "     Actual Values  Predictions\n",
       "0       402.296319   405.472443\n",
       "1       624.156198   623.952881\n",
       "2       582.455066   592.515137\n",
       "3       578.588606   572.577881\n",
       "4       371.224104   366.744202\n",
       "..             ...          ...\n",
       "295     525.704657   529.352051\n",
       "296     502.909473   515.607178\n",
       "297     612.727910   610.051880\n",
       "298     417.569725   417.156799\n",
       "299     410.538250   411.059021\n",
       "\n",
       "[300 rows x 2 columns]"
      ]
     },
     "execution_count": 127,
     "metadata": {},
     "output_type": "execute_result"
    }
   ],
   "source": [
    "predictions_df"
   ]
  },
  {
   "cell_type": "code",
   "execution_count": 130,
   "id": "1eb329dd",
   "metadata": {},
   "outputs": [
    {
     "data": {
      "text/plain": [
       "<AxesSubplot:xlabel='Actual Values', ylabel='Predictions'>"
      ]
     },
     "execution_count": 130,
     "metadata": {},
     "output_type": "execute_result"
    },
    {
     "data": {
      "image/png": "[encoded data removed]",
      "text/plain": [
       "<Figure size 432x288 with 1 Axes>"
      ]
     },
     "metadata": {
      "needs_background": "light"
     },
     "output_type": "display_data"
    }
   ],
   "source": [
    "sbn.scatterplot(x=predictions_df['Actual Values'], y=predictions_df['Predictions'])"
   ]
  },
  {
   "cell_type": "code",
   "execution_count": 132,
   "id": "e0eaf9dd",
   "metadata": {},
   "outputs": [
    {
     "data": {
      "text/plain": [
       "5.011183943687169"
      ]
     },
     "execution_count": 132,
     "metadata": {},
     "output_type": "execute_result"
    }
   ],
   "source": [
    "from sklearn.metrics import mean_squared_error\n",
    "\n",
    "RMSE = np.sqrt(\n",
    "    mean_squared_error(predictions_df['Actual Values'], predictions_df['Predictions'])\n",
    ")\n",
    "RMSE"
   ]
  },
  {
   "cell_type": "markdown",
   "id": "841af5bf",
   "metadata": {},
   "source": [
    "# Predicting New Values"
   ]
  },
  {
   "cell_type": "code",
   "execution_count": 135,
   "id": "2f692564",
   "metadata": {},
   "outputs": [],
   "source": [
    "new_gem = [[998, 1000]]\n",
    "new_gem = scaler.transform(new_gem)"
   ]
  },
  {
   "cell_type": "code",
   "execution_count": 138,
   "id": "f53cf789",
   "metadata": {},
   "outputs": [
    {
     "data": {
      "text/plain": [
       "array([[419.87134]], dtype=float32)"
      ]
     },
     "execution_count": 138,
     "metadata": {},
     "output_type": "execute_result"
    }
   ],
   "source": [
    "expected_price = model.predict(new_gem)\n",
    "expected_price"
   ]
  },
  {
   "cell_type": "markdown",
   "id": "15faea8b",
   "metadata": {},
   "source": [
    "# Saving Model"
   ]
  },
  {
   "cell_type": "code",
   "execution_count": null,
   "id": "39862a19",
   "metadata": {},
   "outputs": [],
   "source": [
    "from tensorflow.keras.models import load_model\n",
    "\n",
    "model.save('my_gem_model.h5')\n",
    "\n",
    "loaded_model = load_model('my_gem_model.h5')\n",
    "\n",
    "# loaded_model.predict()..."
   ]
  }
 ],
 "metadata": {
  "kernelspec": {
   "display_name": "Python 3",
   "language": "python",
   "name": "python3"
  },
  "language_info": {
   "codemirror_mode": {
    "name": "ipython",
    "version": 3
   },
   "file_extension": ".py",
   "mimetype": "text/x-python",
   "name": "python",
   "nbconvert_exporter": "python",
   "pygments_lexer": "ipython3",
   "version": "3.7.11"
  }
 },
 "nbformat": 4,
 "nbformat_minor": 5
}
